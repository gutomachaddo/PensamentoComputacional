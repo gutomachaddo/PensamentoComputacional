{
  "nbformat": 4,
  "nbformat_minor": 0,
  "metadata": {
    "colab": {
      "provenance": [],
      "authorship_tag": "ABX9TyPCIs5OTaBUkEWUFLp/9TR/"
    },
    "kernelspec": {
      "name": "python3",
      "display_name": "Python 3"
    },
    "language_info": {
      "name": "python"
    }
  },
  "cells": [
    {
      "cell_type": "markdown",
      "source": [
        "# Exercícios de aula: Comandos de entrada e saída em Python\n",
        "\n",
        "\n"
      ],
      "metadata": {
        "id": "kb55BoDg8x30"
      }
    },
    {
      "cell_type": "markdown",
      "source": [
        "1: Faça em Python um algoritmo que leia um número inteiro qualquer. O algoritmo deve calcular e escrever o\n",
        "quadrado, a raiz quadrada, e a divisão do quadrado pela raiz quadrada do número lido."
      ],
      "metadata": {
        "id": "ZtFUTWRa9BHl"
      }
    },
    {
      "cell_type": "code",
      "source": [
        "import math"
      ],
      "metadata": {
        "id": "SZdpxe-yCYxj"
      },
      "execution_count": 2,
      "outputs": []
    },
    {
      "cell_type": "code",
      "source": [
        "# Algoritmo de cálculo de quadrado, raiz quadrada e divisão do quadrado pela raiz quadrada\n",
        "\n",
        "# Variáveis\n",
        "\n",
        "n = 0\n",
        "quad = 0\n",
        "raiz = 0.0\n",
        "div_quad_raiz = 0.0\n",
        "\n",
        "# Inicio\n",
        "\n",
        "n = int(input(\"Informe um número inteiro qualquer:\"))\n",
        "quad = n ** 2\n",
        "raiz = math.sqrt(n)\n",
        "div_quad_raiz = quad / raiz\n",
        "print('O quadrado de ', n,' é', quad,', a raiz é ', round(raiz, 2),' e a divisão do quadrado pela raiz é', round(div_quad_raiz, 2))\n",
        "\n",
        "#Fim."
      ],
      "metadata": {
        "colab": {
          "base_uri": "https://localhost:8080/"
        },
        "id": "QsWdnepG9IDo",
        "outputId": "fc92c425-291e-432b-d71f-738287a10929"
      },
      "execution_count": 4,
      "outputs": [
        {
          "output_type": "stream",
          "name": "stdout",
          "text": [
            "Informe um número inteiro qualquer:8\n",
            "O quadrado de  8  é 64 , a raiz é  2.83  e a divisão do quadrado pela raiz é 22.63\n"
          ]
        }
      ]
    },
    {
      "cell_type": "markdown",
      "source": [
        "2: Faça em Python um algoritmo que calcule e escreva o preço final de um computador, sendo fornecido o\n",
        "preço de fábrica. O preço final do computador é calculado com base nos adicionais de: 30 % de imposto e\n",
        "10 % de revenda sobre o preço de fábrica."
      ],
      "metadata": {
        "id": "IPUt9cC_CCS4"
      }
    },
    {
      "cell_type": "code",
      "source": [
        "# Algoritmo que leia o preço de um computador e informe o preço final\n",
        "\n",
        "# variáveis\n",
        "\n",
        "preco_inicial = 0.0\n",
        "imposto = 0.0\n",
        "preco_final = 0.0\n",
        "preco_rev = 0.0\n",
        "\n",
        "#Inicio\n",
        "\n",
        "preco_inicial = float(input('Qual o preço do computador (em R$)?'))\n",
        "imposto = preco_inicial * (30/100)\n",
        "preco_rev = (preco_inicial + imposto) * (10/100)\n",
        "preco_final = preco_rev + preco_inicial\n",
        "print('O preço final do computador ficará no valor de R$', round(preco_final,2))\n",
        "print(f'O preço final do computador ficará no valor de R$ {preco_final:.2f}')\n",
        "\n",
        "# Duas maneiras diferentes de encurtar os números após a vírgula\n",
        "\n",
        "\n",
        "#fim.\n",
        "\n"
      ],
      "metadata": {
        "colab": {
          "base_uri": "https://localhost:8080/"
        },
        "id": "GLovnwGVCPNJ",
        "outputId": "61157b29-4cf4-4473-f4cc-9a6674da710a"
      },
      "execution_count": 7,
      "outputs": [
        {
          "output_type": "stream",
          "name": "stdout",
          "text": [
            "Qual o preço do computador?1500\n",
            "O preço final do computador ficará no valor de R$ 1695.0\n",
            "O preço final do computador ficará no valor de R$ 1695.00\n"
          ]
        }
      ]
    },
    {
      "cell_type": "markdown",
      "source": [
        "3: Faça um algoritmo em Python que leia três números inteiros e calcule a sua média. Ao final, o algoritmo deve escrever os números lidos e o resultado da média.\n"
      ],
      "metadata": {
        "id": "PO3gxSUIFn6b"
      }
    },
    {
      "cell_type": "code",
      "source": [
        "# Algoritmo média de 3 números inteiros\n",
        "\n",
        "# Variáveis\n",
        "\n",
        "num1 = int(input('escreva um número inteiro:'))\n",
        "num2 = int(input('escreva um número inteiro:'))\n",
        "num3 = int(input('escreva um número inteiro:'))\n",
        "\n",
        "# Inicio\n",
        "\n",
        "media = (num1 + num2 + num3) / 3\n",
        "print('A média dos números', num1,',', num2,'e ', num3,'é:', round(media, 2))\n",
        "\n",
        "# Fim."
      ],
      "metadata": {
        "colab": {
          "base_uri": "https://localhost:8080/"
        },
        "id": "MDYcbwTqFsq6",
        "outputId": "b6baadaa-285b-457f-81ea-f901f4f49218"
      },
      "execution_count": 9,
      "outputs": [
        {
          "output_type": "stream",
          "name": "stdout",
          "text": [
            "escreva um número inteiro:7\n",
            "escreva um número inteiro:5\n",
            "escreva um número inteiro:13\n",
            "A média dos números 7 , 5 e  13 é: 8.33\n"
          ]
        }
      ]
    },
    {
      "cell_type": "markdown",
      "source": [
        " 4: Fazer um algoritmo em Python que calcule o número de litros de combustível gastos em uma viagem, sabendo-se que o carro faz 12 km com um litro. Deverão ser lidos o tempo gasto na viagem e a velocidade média. Aplicar as seguintes fórmulas:\n",
        "- Distância = tempo gasto x velocidade média\n",
        "- litros gastos = distância / 12\n"
      ],
      "metadata": {
        "id": "ixBnzFYrHC5o"
      }
    },
    {
      "cell_type": "code",
      "source": [
        "# Algoritmo que calcule o número de litros gastos em uma viagem\n",
        "\n",
        "# Variáveis\n",
        "\n",
        "dist = 0.0\n",
        "l_gasto = 0.0\n",
        "vel_media = 0.0\n",
        "tempo = 0.0\n",
        "\n",
        "# Inicio\n",
        "\n",
        "tempo = float(input('Quanto tempo durou a sua viagem (em horas)?'))\n",
        "vel_media = float(input('Qual a sua velocidade média durante a viagem (em km/h)?'))\n",
        "dist = tempo * vel_media\n",
        "l_gasto = dist / 12\n",
        "print('Foram gastos', round(l_gasto, 2),'Litros de gasolina na viagem.')\n",
        "\n",
        "# Fim.\n",
        "\n",
        "\n"
      ],
      "metadata": {
        "colab": {
          "base_uri": "https://localhost:8080/"
        },
        "id": "e1nDXnPeHHfL",
        "outputId": "49822783-aad6-450b-8116-d8c4d62c6998"
      },
      "execution_count": 11,
      "outputs": [
        {
          "output_type": "stream",
          "name": "stdout",
          "text": [
            "Quanto tempo durou a sua viagem (em horas)?8\n",
            "Qual a sua velocidade média durante a viagem (em km/h)?85\n",
            "Foram gastos 56.67 Litros de gasolina na viagem.\n"
          ]
        }
      ]
    },
    {
      "cell_type": "markdown",
      "source": [
        "5: Faça em Python um algoritmo que leia dois números inteiros (x e y), e calcule o quociente e o resto da divisão de x por y e escreva os resultados."
      ],
      "metadata": {
        "id": "5_5bWcsGIeS9"
      }
    },
    {
      "cell_type": "code",
      "source": [
        "# Algoritmo que leia dois números inteiros e escreva o mod e div deles\n",
        "\n",
        "# Variáveis\n",
        "\n",
        "x = 0\n",
        "y = 0\n",
        "div = 0.0\n",
        "mod = 0.0\n",
        "\n",
        "# Inicio\n",
        "\n",
        "x = int(input('Escreva um número inteiro:'))\n",
        "y = int(input('Escreva outro número inteiro:'))\n",
        "div = x // y\n",
        "mod = x % y\n",
        "print('O quociente e o resto da divisão de', x,'por', y,'são respectivamente:', div,'e ', mod)\n",
        "\n",
        "# Fim."
      ],
      "metadata": {
        "colab": {
          "base_uri": "https://localhost:8080/"
        },
        "id": "zDgYzjuRIill",
        "outputId": "d7905882-c10c-4175-e93f-788d96ffb88b"
      },
      "execution_count": 12,
      "outputs": [
        {
          "output_type": "stream",
          "name": "stdout",
          "text": [
            "Escreva um número inteiro:56\n",
            "Escreva outro número inteiro:7\n",
            "O quociente e o resto da divisão de 56 por 7 são respectivamente: 8 e  0\n"
          ]
        }
      ]
    },
    {
      "cell_type": "markdown",
      "source": [
        "6: Escreva em python um algoritmo que leia três números reais (a, b, c), e calcule a média aritmética. Após\n",
        "os cálculos, os resultados deverão ser escritos."
      ],
      "metadata": {
        "id": "bMr9cZ_yiUdj"
      }
    },
    {
      "cell_type": "code",
      "source": [
        "# Algoritmo que leia 3 números reais e faça a média\n",
        "\n",
        "# Variáveis\n",
        "\n",
        "num1 = 0.0\n",
        "num2 = 0.0\n",
        "num3 = 0.0\n",
        "media = 0.0\n",
        "\n",
        "#Inicio\n",
        "\n",
        "num1 = float(input('Escreva um número:'))\n",
        "num2 = float(input('Escreva outro:'))\n",
        "num3 = float(input('Escreva outro:'))\n",
        "media = (num1 + num2 + num3) / 3\n",
        "print('\\n A media dos números ', num1,', ', num2,' e ', num3,' é ', round(media, 2),'!')\n",
        "\n",
        "# Fim.\n"
      ],
      "metadata": {
        "colab": {
          "base_uri": "https://localhost:8080/"
        },
        "id": "Z21V0IHojQ7D",
        "outputId": "a0803b60-f68a-4c83-917b-faf1122f6cfb"
      },
      "execution_count": 13,
      "outputs": [
        {
          "output_type": "stream",
          "name": "stdout",
          "text": [
            "Escreva um número:8.56\n",
            "Escreva outro:2.2\n",
            "Escreva outro:15\n",
            "\n",
            " A media dos números  8.56 ,  2.2  e  15.0  é  8.59 !\n"
          ]
        }
      ]
    },
    {
      "cell_type": "markdown",
      "source": [
        "7: Uma loja de equipamentos de informática resolveu incentivar os seus funcionários a venderem no mês\n",
        "março. Para cada produto vendido, a loja dará uma bonificação de 1%, sobre o salário do funcionário.\n",
        "Desta forma, o funcionário que vender 10 produtos, terá um acréscimo de 10% em seu salário. Faça um\n",
        "algoritmo em Python que leia o código, o nome e o salário fixo do funcionário, além do número de\n",
        "produtos vendidos por ele no mês, e calcule o salário final do funcionário. Por fim, o algoritmo deve\n",
        "escrever o código e o nome do funcionário, juntamente com o seu salário final."
      ],
      "metadata": {
        "id": "fwyjx7YClah8"
      }
    },
    {
      "cell_type": "code",
      "source": [
        "# Algoritmo que leia o código, nome, salário fixo de um funcionário e o n° de produtos vendidos e calcule o salário final.\n",
        "\n",
        "# Variáveis\n",
        "\n",
        "cod = \"123456789\"\n",
        "nome = \"0\"\n",
        "salfixo = 0.0\n",
        "prod = 0\n",
        "cod_pessoa = \"0\"\n",
        "sal_final = 0.0\n",
        "aumento = 0.0\n",
        "\n",
        "# Inicio\n",
        "\n",
        "while True:\n",
        "  cod_pessoa = str(input('Qual o seu código?'))\n",
        "  if cod_pessoa == cod:\n",
        "    nome = str(input('Qual o seu nome?'))\n",
        "    salfixo = float(input('Qual o seu salário fixo?'))\n",
        "    prod = int(input('Quantos produtos você vendeu neste mês de março?'))\n",
        "    aumento = (0.01 * prod) * salfixo\n",
        "    sal_final = aumento + salfixo\n",
        "    print('O funcionário ', nome,' com o código de cadastro ', cod,', irá receber um novo salário de', round(sal_final, 2))\n",
        "    break\n",
        "  else:\n",
        "    print('Código incorreto. Tente novamente.')\n",
        "\n",
        "# Fim.\n",
        "\n",
        "\n",
        "\n"
      ],
      "metadata": {
        "colab": {
          "base_uri": "https://localhost:8080/"
        },
        "id": "ZaKD_A1_liqU",
        "outputId": "9a49d047-1918-46ab-98f2-6b0ba83bbf31"
      },
      "execution_count": 15,
      "outputs": [
        {
          "output_type": "stream",
          "name": "stdout",
          "text": [
            "Qual o seu código?565656\n",
            "Código incorreto. Tente novamente.\n",
            "Qual o seu código?123456789\n",
            "Qual o seu nome?Guilherme\n",
            "Qual o seu salário fixo?1500\n",
            "Quantos produtos você vendeu neste mês de março?10\n",
            "O funcionário  Guilherme  com o código de cadastro  123456789 , irá receber um novo salário de 1650.0\n"
          ]
        }
      ]
    },
    {
      "cell_type": "markdown",
      "source": [
        "8: Construa um algoritmo em Python que calcule a quantidade de latas de tintas necessárias e o custo para\n",
        "pintar tanques cilíndricos de combustível, onde são fornecidos a altura e o raio deste cilindro. Sabendo\n",
        "que:\n",
        "\n",
        "● a lata de tinta custa R$ 150,00\n",
        "\n",
        "● cada lata contém 5 litros;\n",
        "\n",
        "● cada litro de tinta pinta 3 metros quadrados;\n",
        "\n",
        "● a área do total cilindro é dada por área da base + área lateral;\n",
        "\n",
        "● a área da base do cilindro é dada π*raio2\n",
        "\n",
        "● a área da lateral é 2*π*raio*altura.\n",
        "\n",
        "● Lembrando que π (pi) vale 3,14."
      ],
      "metadata": {
        "id": "fFJW0XfwvHTc"
      }
    },
    {
      "cell_type": "code",
      "source": [
        "# Algoritmo que calcule a quantidade de latas de tintas necessárias e o custo para pintar tanques cilíndricos\n",
        "\n",
        "# Variáveis\n",
        "\n",
        "qtd = 0.0\n",
        "custo = 0.0\n",
        "altura = 0.0\n",
        "raio = 0.0\n",
        "area_base = 0.0\n",
        "area_lat = 0.0\n",
        "total = 0.0\n",
        "pi = 3.14\n",
        "litros = 0.0\n",
        "\n",
        "# Inicio\n",
        "\n",
        "altura = float(input('Qual a altura do tanque?'))\n",
        "raio = float(input('Qual o raio do tanque?'))\n",
        "area_base = pi * (raio ** 2)\n",
        "area_lat = 2 * pi * raio ** 2\n",
        "total = area_base + area_lat\n",
        "litros = total / 3\n",
        "qtd = litros / 5\n",
        "custo = 150 * math.ceil(qtd)\n",
        "\n",
        "print('A quantidade de latas de tinta e o custo que irá ficar são respectivamente:', math.ceil(qtd),' latas e R$', custo )\n",
        "\n",
        "# Fim\n",
        "\n"
      ],
      "metadata": {
        "colab": {
          "base_uri": "https://localhost:8080/"
        },
        "id": "SOMRispNvT3L",
        "outputId": "35318fce-7e05-4d8c-a286-6045c995bc75"
      },
      "execution_count": 18,
      "outputs": [
        {
          "output_type": "stream",
          "name": "stdout",
          "text": [
            "Qual a altura do tanque?3\n",
            "Qual o raio do tanque?2\n",
            "A quantidade de latas de tinta e o custo que irá ficar são respectivamente: 3  latas e R$ 450\n"
          ]
        }
      ]
    },
    {
      "cell_type": "markdown",
      "source": [
        "9: Elabore um algoritmo em Python para calcular e escrever o preço final de um computador, sendo\n",
        "fornecido o preço de fábrica. O preço final do computador é calculado com base nos adicionais 45 % de\n",
        "imposto e 28 % de revenda sobre o preço de fábrica."
      ],
      "metadata": {
        "id": "N1H8IYEmC4Ul"
      }
    },
    {
      "cell_type": "code",
      "source": [
        "# Algoritmo que calcule o preço final de um computador com uma taxa de imposto e revenda sobre o preço inicial\n",
        "\n",
        "# Variáveis\n",
        "\n",
        "inicial = 0.0\n",
        "imposto = 0.0\n",
        "revenda = 0.0\n",
        "final = 0.0\n",
        "\n",
        "# Inicio\n",
        "\n",
        "inicial = float(input('Qual o preço do computador?'))\n",
        "imposto = inicial * 0.45\n",
        "revenda = inicial * 0.28\n",
        "final = inicial + imposto + revenda\n",
        "print('O preço final do computador é R$', round(final, 2))\n",
        "\n",
        "# Fim.\n"
      ],
      "metadata": {
        "colab": {
          "base_uri": "https://localhost:8080/"
        },
        "id": "KWF6rYnkDBH1",
        "outputId": "6189d35a-8000-4210-d654-e407e2f7376e"
      },
      "execution_count": 20,
      "outputs": [
        {
          "output_type": "stream",
          "name": "stdout",
          "text": [
            "Qual o preço do computador?1500\n",
            "O preço final do computador é R$ 2595.0\n"
          ]
        }
      ]
    },
    {
      "cell_type": "markdown",
      "source": [
        "10: Uma revendedora de carros usados paga aos seus funcionários vendedores, um salário fixo por mês, mais\n",
        "uma comissão para cada carro vendido. Escreva um algoritmo em Python que leia o número do vendedor, o seu salário fixo, o número de carros por ele vendidos, e o valor que recebe por carro vendido, e calcule o\n",
        "salário mensal do vendedor, escrevendo-o juntamente com o seu número de identificação."
      ],
      "metadata": {
        "id": "m7PwltCXEIhz"
      }
    },
    {
      "cell_type": "code",
      "source": [
        "# Algoritmo que calcule um novo salario de um vendedor com base no seu número de vendas\n",
        "\n",
        "# Variáveis\n",
        "\n",
        "\n",
        "num_vend = '101010'\n",
        "num = '0'\n",
        "sal = 0.0\n",
        "carros = 0\n",
        "val_car = 0.0\n",
        "sal_final = 0.0\n",
        "\n",
        "# Inicio\n",
        "\n",
        "while True:\n",
        "  num = str(input('Escreva seu n° de vendedor:'))\n",
        "  if num_vend == num:\n",
        "    sal = float(input('Qual o seu salário? R$'))\n",
        "    val_car = float(input('O valor por carro vendido: R$'))\n",
        "    carros = int(input('Quantidade de carros vendidos:'))\n",
        "    sal_final = sal + val_car * carros\n",
        "    print('O valor do salário deste mês ficará no valor de R$', sal_final)\n",
        "    break\n",
        "  else:\n",
        "    print('Número de vendedor errado! Tente novamente.')\n",
        "\n",
        "# Fim\n",
        "\n",
        "\n",
        "\n",
        "\n"
      ],
      "metadata": {
        "colab": {
          "base_uri": "https://localhost:8080/"
        },
        "id": "ecvxBGcGEMB1",
        "outputId": "5cd618a1-69fe-4b7c-ea02-e3d371da2041"
      },
      "execution_count": null,
      "outputs": [
        {
          "output_type": "stream",
          "name": "stdout",
          "text": [
            "Escreva seu n° de vendedor:151515\n",
            "Número de vendedor errado! Tente novamente.\n",
            "Escreva seu n° de vendedor:101010\n",
            "Qual o seu salário? R$1500\n",
            "O valor por carro vendido: R$150\n",
            "Quantidade de carros vendidos:10\n",
            "O valor do salário deste mês ficará no valor de R$ 3000.0\n"
          ]
        }
      ]
    },
    {
      "cell_type": "markdown",
      "source": [
        "# 11: **Uma empresa, para emitir a sua folha de pagamento mensal, trabalha com os seguintes dados:**\n",
        "\n",
        "# **Relativos ao Sistema de Pagamentos**\n",
        "\n",
        "Valor da Hora Normal = 8,00\n",
        "\n",
        "Valor da Hora Extra = 9,50\n",
        "\n",
        "Valor do Acréscimo por Dependente = 2,50\n",
        "\n",
        "# **Relativos a cada Funcionário**\n",
        "\n",
        "Número de Identificação\n",
        "\n",
        "Nome e horas normais trabalhadas\n",
        "\n",
        "Número de horas extras trabalhadas\n",
        "\n",
        "Número de dependentes\n",
        "\n",
        "# **O cálculo do salário de cada funcionário é feito em 3 etapas:**\n",
        "\n",
        "**Etapa 1 : Cálculo do Salário Bruto**\n",
        "\n",
        "SALARIO BRUTO = Valor Total de Horas Normais + Valor Total de Horas Extras + Valor Total de Dependentes\n",
        "\n",
        "**Etapa 2 : Descontos**\n",
        "\n",
        "Todos os funcionários são isentos de imposto de renda, e descontam 5% do salário bruto para o INSS.\n",
        "\n",
        "**Etapa 3 : Salário Líquido**\n",
        "\n",
        "SALARIO LÍQUIDO = SALARIO BRUTO - DESCONTO\n",
        "\n",
        "# Escrever um algoritmo em Python que leia os dados referentes ao funcionário, calcule e escreva o salário líquido do funcionário da empresa. **Obs.: Além do salário líquido, escreva o número de identificação e o nome do funcionário.**"
      ],
      "metadata": {
        "id": "rv7bD4aFKnLL"
      }
    },
    {
      "cell_type": "code",
      "source": [
        "# Algoritmo que leia os dados referentes ao funcionário, calcule e escreva o salário líquido do funcionário da empresa\n",
        "\n",
        "# Variáveis\n",
        "\n",
        "vh = 8.0\n",
        "vhx = 9.5\n",
        "vad = 2.5\n",
        "ident = '4090'\n",
        "ident_func = '0'\n",
        "nome = '0'\n",
        "horas = 0.0\n",
        "horas_ex = 0.0\n",
        "dep = 0\n",
        "sal_bruto = 0.0\n",
        "inss = 0.05\n",
        "inss_desc = 0.0\n",
        "sal_liq = 0.0\n",
        "\n",
        "# Inicio\n",
        "\n",
        "while True:\n",
        "  ident_func = str(input('Qual seu n° de identificação:'))\n",
        "  if ident == ident_func:\n",
        "    nome = str(input('Escreva seu nome:'))\n",
        "    horas = float(input('Escreva a quantidade de horas que você trabalha em um mês:'))\n",
        "    horas_ex = float(input('Escreva a quantidade de horas extras que você fez este mês:'))\n",
        "    dep = int(input('Escreva o número de dependentes:'))\n",
        "    sal_bruto = (horas * vh) + (horas_ex * vhx) + (dep * vad)\n",
        "    inss_desc = sal_bruto * inss\n",
        "    sal_liq = sal_bruto - inss_desc\n",
        "    print('O funcionário {} com n° de identificação {} terá um salário líquido de {}'.format(nome, ident_func, sal_liq))\n",
        "    break\n",
        "  else:\n",
        "    print('Errado! Tente novamente.')\n",
        "\n",
        "# Fim."
      ],
      "metadata": {
        "id": "N0iDc1ULLojk",
        "colab": {
          "base_uri": "https://localhost:8080/"
        },
        "outputId": "e01c4115-919c-4396-d08d-222c1d10d38c"
      },
      "execution_count": null,
      "outputs": [
        {
          "output_type": "stream",
          "name": "stdout",
          "text": [
            "Qual seu n° de identificação:4505\n",
            "Errado! Tente novamente.\n",
            "Qual seu n° de identificação:4090\n",
            "Escreva seu nome:Augusto\n",
            "Escreva a quantidade de horas que você trabalha em um mês:160\n",
            "Escreva a quantidade de horas extras que você fez este mês:40\n",
            "Escreva o número de dependentes:10\n",
            "O funcionário Augusto com n° de identificação 4090 terá um salário líquido de 1600.75\n"
          ]
        }
      ]
    },
    {
      "cell_type": "code",
      "source": [
        "# Teste\n",
        "numero = input('Escreva um n° real (ex: 12,5)')\n",
        "numero = float(numero.replace(\",\", \".\"))\n",
        "dobro = numero * 2\n",
        "print('O dobro desse numero é {}'.format(dobro))\n"
      ],
      "metadata": {
        "colab": {
          "base_uri": "https://localhost:8080/"
        },
        "id": "rqJvj3Aeg6t0",
        "outputId": "9c494f3c-4fa1-4ed0-dcca-8d3908aa9be4"
      },
      "execution_count": null,
      "outputs": [
        {
          "output_type": "stream",
          "name": "stdout",
          "text": [
            "Escreva um n° real (ex: 12,5)12,5\n",
            "O dobro desse numero é 25.0\n"
          ]
        }
      ]
    }
  ]
}