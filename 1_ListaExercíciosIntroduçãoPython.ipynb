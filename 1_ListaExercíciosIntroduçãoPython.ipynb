{
  "cells": [
    {
      "cell_type": "markdown",
      "metadata": {
        "colab_type": "text",
        "id": "view-in-github"
      },
      "source": [
        "<a href=\"https://colab.research.google.com/github/gutomachaddo/PensamentoComputacional/blob/main/1_ListaExerc%C3%ADciosIntrodu%C3%A7%C3%A3oPython.ipynb\" target=\"_parent\"><img src=\"https://colab.research.google.com/assets/colab-badge.svg\" alt=\"Open In Colab\"/></a>"
      ]
    },
    {
      "cell_type": "markdown",
      "metadata": {
        "id": "kb55BoDg8x30"
      },
      "source": [
        "# Exercícios de aula: Comandos de entrada e saída em Python\n",
        "\n",
        "\n"
      ]
    },
    {
      "cell_type": "markdown",
      "metadata": {
        "id": "ZtFUTWRa9BHl"
      },
      "source": [
        "1: Faça em Python um algoritmo que leia um número inteiro qualquer. O algoritmo deve calcular e escrever o\n",
        "quadrado, a raiz quadrada, e a divisão do quadrado pela raiz quadrada do número lido."
      ]
    },
    {
      "cell_type": "code",
      "execution_count": null,
      "metadata": {
        "id": "SZdpxe-yCYxj"
      },
      "outputs": [],
      "source": [
        "import math"
      ]
    },
    {
      "cell_type": "code",
      "execution_count": null,
      "metadata": {
        "colab": {
          "base_uri": "https://localhost:8080/"
        },
        "id": "QsWdnepG9IDo",
        "outputId": "65fd963c-3934-41d7-c704-2c9842d60e44"
      },
      "outputs": [
        {
          "name": "stdout",
          "output_type": "stream",
          "text": [
            "Informe um número inteiro qualquer:8\n",
            "O quadrado de  8  é 64 , a raiz é  2.8284271247461903  e a divisão do quadrado pela raiz é 22.62741699796952\n"
          ]
        }
      ],
      "source": [
        "# Algoritmo de cálculo de quadrado, raiz quadrada e divisão do quadrado pela raiz quadrada\n",
        "\n",
        "# Variáveis\n",
        "\n",
        "n = 0                                                                    \n",
        "quad = 0      \n",
        "raiz = 0.0 \n",
        "div_quad_raiz = 0.0 \n",
        "\n",
        "# Inicio\n",
        "\n",
        "# Cálculo do quadrado, raiz quadrada e divisão do quadrado pela raiz de n \n",
        "n = int(input(\"Informe um número inteiro qualquer:\")) \n",
        "quad = n ** 2 \n",
        "raiz = math.sqrt(n)                \n",
        "div_quad_raiz = quad / raiz \n",
        "\n",
        "# Resultados\n",
        "print('O quadrado de ', n,' é', quad,', a raiz é ', raiz,' e a divisão do quadrado pela raiz é', div_quad_raiz) \n",
        "\n",
        "#Fim."
      ]
    },
    {
      "cell_type": "markdown",
      "metadata": {
        "id": "IPUt9cC_CCS4"
      },
      "source": [
        "2: Faça em Python um algoritmo que calcule e escreva o preço final de um computador, sendo fornecido o\n",
        "preço de fábrica. O preço final do computador é calculado com base nos adicionais de: 30 % de imposto e\n",
        "10 % de revenda sobre o preço de fábrica."
      ]
    },
    {
      "cell_type": "code",
      "execution_count": null,
      "metadata": {
        "colab": {
          "base_uri": "https://localhost:8080/"
        },
        "id": "GLovnwGVCPNJ",
        "outputId": "c3e37ca1-4900-472e-b8a6-30626f4e1b38"
      },
      "outputs": [
        {
          "name": "stdout",
          "output_type": "stream",
          "text": [
            "Qual o preço do computador?1234.5456545\n",
            "O preço final do computador ficará no valor de R$ 1395.04\n",
            "O preço final do computador ficará no valor de R$ 1395.04\n"
          ]
        }
      ],
      "source": [
        "# Algoritmo que leia o preço de um computador, adicione o valor de imposto e revenda e ao final, informe o preço final\n",
        "\n",
        "# variáveis\n",
        "\n",
        "preco_inicial = 0.0 \n",
        "imposto = 0.0                                   \n",
        "preco_final = 0.0 \n",
        "preco_rev = 0.0 \n",
        "\n",
        "#Inicio\n",
        "\n",
        "# Cálculo dos valores adicionais de imposto e preço de revenda\n",
        "preco_inicial = float(input('Qual o preço do computador?')) \n",
        "imposto = preco_inicial * (30/100) \n",
        "preco_rev = (preco_inicial + imposto) * (10/100)\n",
        "\n",
        "# Resultados\n",
        "print('O preço final do computador ficará no valor de R$', round(preco_final,2)) \n",
        "print(f'O preço final do computador ficará no valor de R$ {preco_final:.2f}')\n",
        "'''\n",
        "\n",
        "Duas maneiras diferentes de mostrar somente dois números após a vírgula\n",
        "\n",
        "'''\n",
        "\n",
        "#fim.\n",
        "\n"
      ]
    },
    {
      "cell_type": "markdown",
      "metadata": {
        "id": "PO3gxSUIFn6b"
      },
      "source": [
        "3: Faça um algoritmo em Python que leia três números inteiros e calcule a sua média. Ao final, o algoritmo deve escrever os números lidos e o resultado da média.\n"
      ]
    },
    {
      "cell_type": "code",
      "execution_count": null,
      "metadata": {
        "colab": {
          "base_uri": "https://localhost:8080/"
        },
        "id": "MDYcbwTqFsq6",
        "outputId": "75308256-4cdf-440b-d0ad-4b3900014562"
      },
      "outputs": [
        {
          "name": "stdout",
          "output_type": "stream",
          "text": [
            "escreva um número inteiro:8\n",
            "escreva um número inteiro:8\n",
            "escreva um número inteiro:8\n",
            "A média dos números 8 , 8 e  8 é: 8.0\n"
          ]
        }
      ],
      "source": [
        "# Algoritmo média de 3 números inteiros\n",
        "\n",
        "# Variáveis\n",
        "\n",
        "num1 = int(input('escreva um número inteiro:'))\n",
        "num2 = int(input('escreva um número inteiro:'))\n",
        "num3 = int(input('escreva um número inteiro:'))\n",
        "\n",
        "# Inicio\n",
        "\n",
        "# Cálculo da média dos 3 números inteiros digitados\n",
        "media = (num1 + num2 + num3) / 3 \n",
        "\n",
        "# Resultado\n",
        "print('A média dos números', num1,',', num2,'e ', num3,'é:', round(media)) \n",
        "\n",
        "# Fim."
      ]
    },
    {
      "cell_type": "markdown",
      "metadata": {
        "id": "ixBnzFYrHC5o"
      },
      "source": [
        " 4: Fazer um algoritmo em Python que calcule o número de litros de combustível gastos em uma viagem, sabendo-se que o carro faz 12 km com um litro. Deverão ser lidos o tempo gasto na viagem e a velocidade média. Aplicar as seguintes fórmulas:\n",
        "- Distância = tempo gasto x velocidade média\n",
        "- litros gastos = distância / 12\n"
      ]
    },
    {
      "cell_type": "code",
      "execution_count": null,
      "metadata": {
        "colab": {
          "base_uri": "https://localhost:8080/"
        },
        "id": "e1nDXnPeHHfL",
        "outputId": "9b495929-755f-492c-9f65-9a70becc9bdb"
      },
      "outputs": [
        {
          "name": "stdout",
          "output_type": "stream",
          "text": [
            "Quanto tempo durou a sua viagem?5\n",
            "Qual a sua velocidade média durante a viagem?120\n",
            "Foram gastos 50.0 Litros de gasolina na viagem.\n"
          ]
        }
      ],
      "source": [
        "# Algoritmo que calcule o número de litros gastos em uma viagem, a partir do tempo de viagem e a velocidade média\n",
        "\n",
        "# Variáveis\n",
        "\n",
        "dist = 0.0\n",
        "l_gasto = 0.0\n",
        "vel_media = 0.0\n",
        "tempo = 0.0\n",
        "\n",
        "# Inicio\n",
        "\n",
        "# Cálculo da distância percorrida + quantidade de litros gastos a partir do tempo de viagem e velocidade média\n",
        "tempo = float(input('Quanto tempo durou a sua viagem?'))  \n",
        "vel_media = float(input('Qual a sua velocidade média durante a viagem?'))\n",
        "dist = tempo * vel_media \n",
        "l_gasto = dist / 12 \n",
        "\n",
        "# Resultado\n",
        "print('Foram gastos', l_gasto,'Litros de gasolina na viagem.') \n",
        "\n",
        "# Fim.\n",
        "\n",
        "\n"
      ]
    },
    {
      "cell_type": "markdown",
      "metadata": {
        "id": "5_5bWcsGIeS9"
      },
      "source": [
        "5: Faça em Python um algoritmo que leia dois números inteiros (x e y), e calcule o quociente e o resto da divisão de x por y e escreva os resultados."
      ]
    },
    {
      "cell_type": "code",
      "execution_count": null,
      "metadata": {
        "colab": {
          "base_uri": "https://localhost:8080/"
        },
        "id": "zDgYzjuRIill",
        "outputId": "b3ce66dd-7d3f-489b-c4da-aec04e4159e5"
      },
      "outputs": [
        {
          "name": "stdout",
          "output_type": "stream",
          "text": [
            "Escreva um número inteiro:8\n",
            "Escreva outro número inteiro:8\n",
            "O quociente e o resto da divisão de 8 por 8 são respectivamente: 1 e  0\n"
          ]
        }
      ],
      "source": [
        "# Algoritmo que leia dois números inteiros e escreva o resto da divisão e o quociente da divisão inteira de x por y\n",
        "\n",
        "# Variáveis\n",
        "\n",
        "x = 0\n",
        "y = 0\n",
        "div = 0.0\n",
        "mod = 0.0\n",
        "\n",
        "# Inicio\n",
        "\n",
        "# Cálculos do resto da divisão inteira e o quociente da divisão inteira de x por y \n",
        "x = int(input('Escreva um número inteiro:'))\n",
        "y = int(input('Escreva outro número inteiro:'))\n",
        "div = x // y\n",
        "mod = x % y\n",
        "\n",
        "# Resultado\n",
        "print('O quociente e o resto da divisão de', x,'por', y,'são respectivamente:', div,'e ', mod)\n",
        "\n",
        "# Fim."
      ]
    },
    {
      "cell_type": "markdown",
      "metadata": {
        "id": "bMr9cZ_yiUdj"
      },
      "source": [
        "6: Escreva em python um algoritmo que leia três números reais (a, b, c), e calcule a média aritmética. Após\n",
        "os cálculos, os resultados deverão ser escritos."
      ]
    },
    {
      "cell_type": "code",
      "execution_count": null,
      "metadata": {
        "colab": {
          "base_uri": "https://localhost:8080/"
        },
        "id": "Z21V0IHojQ7D",
        "outputId": "5ed9e0d2-8817-4ce9-8bb7-8a5d1aee906c"
      },
      "outputs": [
        {
          "name": "stdout",
          "output_type": "stream",
          "text": [
            "Escreva um número:8\n",
            "Escreva outro:8\n",
            "Escreva outro:8\n",
            "\n",
            " A media dos números  8.0 ,  8.0  e  8.0  é  8.0 !\n"
          ]
        }
      ],
      "source": [
        "# Algoritmo que leia 3 números reais e faça a média\n",
        "\n",
        "# Variáveis\n",
        "\n",
        "num1 = 0.0\n",
        "num2 = 0.0\n",
        "num3 = 0.0\n",
        "media = 0.0\n",
        "\n",
        "#Inicio\n",
        "\n",
        "# Cálculo da média dos 3 números reais digitados pelo usuário\n",
        "num1 = float(input('Escreva um número:'))\n",
        "num2 = float(input('Escreva outro:'))\n",
        "num3 = float(input('Escreva outro:'))\n",
        "media = (num1 + num2 + num3) / 3\n",
        "\n",
        "# Resultado\n",
        "print('\\n A media dos números ', num1,', ', num2,' e ', num3,' é ', round(media, 2),'!')\n",
        "\n",
        "# Fim.\n"
      ]
    },
    {
      "cell_type": "markdown",
      "metadata": {
        "id": "fwyjx7YClah8"
      },
      "source": [
        "7: Uma loja de equipamentos de informática resolveu incentivar os seus funcionários a venderem no mês\n",
        "março. Para cada produto vendido, a loja dará uma bonificação de 1%, sobre o salário do funcionário.\n",
        "Desta forma, o funcionário que vender 10 produtos, terá um acréscimo de 10% em seu salário. Faça um\n",
        "algoritmo em Python que leia o código, o nome e o salário fixo do funcionário, além do número de\n",
        "produtos vendidos por ele no mês, e calcule o salário final do funcionário. Por fim, o algoritmo deve\n",
        "escrever o código e o nome do funcionário, juntamente com o seu salário final."
      ]
    },
    {
      "cell_type": "code",
      "execution_count": null,
      "metadata": {
        "colab": {
          "base_uri": "https://localhost:8080/"
        },
        "id": "ZaKD_A1_liqU",
        "outputId": "239038a1-ad31-49a6-be66-8c011a7e2bb8"
      },
      "outputs": [
        {
          "name": "stdout",
          "output_type": "stream",
          "text": [
            "Qual o seu código?123456789\n",
            "Qual o seu nome?Augusto\n",
            "Qual o seu salário fixo?10000\n",
            "Quantos produtos você vendeu neste mês de março?10\n",
            "O funcionário  Augusto  com o código de cadastro  123456789 , irá receber um novo salário de 11000.0\n"
          ]
        }
      ],
      "source": [
        "# Algoritmo que leia o código, nome, salário fixo de um funcionário e o n° de produtos vendidos e calcule o salário final.\n",
        "\n",
        "# Variáveis\n",
        "\n",
        "cod = \"123456789\"\n",
        "nome = \"0\"\n",
        "salfixo = 0.0\n",
        "prod = 0\n",
        "cod_pessoa = \"0\"\n",
        "sal_final = 0.0\n",
        "aumento = 0.0\n",
        "\n",
        "# Inicio\n",
        "\n",
        "# Verificação se o código do usuário é correspendente + cálculo do aumento de sálario do funcionário\n",
        "while True:\n",
        "  cod_pessoa = str(input('Qual o seu código?'))\n",
        "  if cod_pessoa == cod:\n",
        "    nome = str(input('Qual o seu nome?'))\n",
        "    salfixo = float(input('Qual o seu salário fixo?'))\n",
        "    prod = int(input('Quantos produtos você vendeu neste mês de março?'))\n",
        "    aumento = (0.01 * prod) * salfixo\n",
        "    sal_final = aumento + salfixo\n",
        "\n",
        "    # Resultados\n",
        "    print('O funcionário ', nome,' com o código de cadastro ', cod,', irá receber um novo salário de', round(sal_final))\n",
        "    break\n",
        "  else:\n",
        "    print('Código incorreto. Tente novamente.')\n",
        "\n",
        "# Fim.\n",
        "\n",
        "\n",
        "\n"
      ]
    },
    {
      "cell_type": "markdown",
      "metadata": {
        "id": "fFJW0XfwvHTc"
      },
      "source": [
        "8: Construa um algoritmo em Python que calcule a quantidade de latas de tintas necessárias e o custo para\n",
        "pintar tanques cilíndricos de combustível, onde são fornecidos a altura e o raio deste cilindro. Sabendo\n",
        "que:\n",
        "\n",
        "● a lata de tinta custa R$ 150,00\n",
        "\n",
        "● cada lata contém 5 litros;\n",
        "\n",
        "● cada litro de tinta pinta 3 metros quadrados;\n",
        "\n",
        "● a área do total cilindro é dada por área da base + área lateral;\n",
        "\n",
        "● a área da base do cilindro é dada π*raio2\n",
        "\n",
        "● a área da lateral é 2*π*raio*altura.\n",
        "\n",
        "● Lembrando que π (pi) vale 3,14."
      ]
    },
    {
      "cell_type": "code",
      "execution_count": null,
      "metadata": {
        "colab": {
          "base_uri": "https://localhost:8080/"
        },
        "id": "SOMRispNvT3L",
        "outputId": "689bdafb-5584-47c2-ee0c-83c4b3f725de"
      },
      "outputs": [
        {
          "name": "stdout",
          "output_type": "stream",
          "text": [
            "Qual a altura do tanque?10.5\n",
            "Qual o raio do tanque?2.5\n",
            "A quantidade de latas de tinta e o custo que irá ficar são respectivamente: 4  latas e R$ 588.75\n"
          ]
        }
      ],
      "source": [
        "# Algoritmo que calcule a quantidade de latas de tintas necessárias e o custo para pintar tanques cilíndricos\n",
        "\n",
        "# Variáveis\n",
        "\n",
        "qtd = 0.0\n",
        "custo = 0.0\n",
        "altura = 0.0\n",
        "raio = 0.0\n",
        "area_base = 0.0\n",
        "area_lat = 0.0\n",
        "total = 0.0\n",
        "pi = 3.14\n",
        "litros = 0.0\n",
        "\n",
        "# Inicio\n",
        "\n",
        "# Cálculo das áreas do cilindro + quantidade de latas necessárias + custo para pintar os tanques\n",
        "altura = float(input('Qual a altura do tanque?'))\n",
        "raio = float(input('Qual o raio do tanque?'))\n",
        "area_base = pi * (raio ** 2)\n",
        "area_lat = 2 * pi * raio ** 2\n",
        "total = area_base + area_lat\n",
        "litros = total / 3\n",
        "qtd = litros / 5\n",
        "custo = 150 * qtd\n",
        "\n",
        "# Resultado\n",
        "print('A quantidade de latas de tinta e o custo que irá ficar são respectivamente:', math.ceil(qtd),' latas e R$', custo )\n",
        "\n",
        "# Fim\n",
        "\n"
      ]
    },
    {
      "cell_type": "markdown",
      "metadata": {
        "id": "N1H8IYEmC4Ul"
      },
      "source": [
        "9: Elabore um algoritmo em Python para calcular e escrever o preço final de um computador, sendo\n",
        "fornecido o preço de fábrica. O preço final do computador é calculado com base nos adicionais 45 % de\n",
        "imposto e 28 % de revenda sobre o preço de fábrica."
      ]
    },
    {
      "cell_type": "code",
      "execution_count": null,
      "metadata": {
        "colab": {
          "base_uri": "https://localhost:8080/"
        },
        "id": "KWF6rYnkDBH1",
        "outputId": "f31742ce-71e8-4245-e6ee-41f318e436e5"
      },
      "outputs": [
        {
          "name": "stdout",
          "output_type": "stream",
          "text": [
            "Qual o preço do computador?1500\n",
            "O preço final do computador é R$ 2595.0\n"
          ]
        }
      ],
      "source": [
        "# Algoritmo que calcule o preço final de um computador com uma taxa de imposto e revenda sobre o preço inicial\n",
        "\n",
        "# Variáveis\n",
        "\n",
        "inicial = 0.0\n",
        "imposto = 0.0\n",
        "revenda = 0.0\n",
        "final = 0.0\n",
        "\n",
        "# Inicio\n",
        "\n",
        "# Cálculo dos valores adicionais de imposto e revenda sobre o preço inicial do computador\n",
        "inicial = float(input('Qual o preço do computador?'))\n",
        "imposto = inicial * 0.45\n",
        "revenda = inicial * 0.28\n",
        "final = inicial + imposto + revenda\n",
        "\n",
        "# Resultado \n",
        "print('O preço final do computador é R$', final)\n",
        "\n",
        "# Fim.\n"
      ]
    },
    {
      "cell_type": "markdown",
      "metadata": {
        "id": "m7PwltCXEIhz"
      },
      "source": [
        "10: Uma revendedora de carros usados paga aos seus funcionários vendedores, um salário fixo por mês, mais\n",
        "uma comissão para cada carro vendido. Escreva um algoritmo em Python que leia o número do vendedor, o seu salário fixo, o número de carros por ele vendidos, e o valor que recebe por carro vendido, e calcule o\n",
        "salário mensal do vendedor, escrevendo-o juntamente com o seu número de identificação."
      ]
    },
    {
      "cell_type": "code",
      "execution_count": null,
      "metadata": {
        "colab": {
          "base_uri": "https://localhost:8080/"
        },
        "id": "ecvxBGcGEMB1",
        "outputId": "5cd618a1-69fe-4b7c-ea02-e3d371da2041"
      },
      "outputs": [
        {
          "name": "stdout",
          "output_type": "stream",
          "text": [
            "Escreva seu n° de vendedor:151515\n",
            "Número de vendedor errado! Tente novamente.\n",
            "Escreva seu n° de vendedor:101010\n",
            "Qual o seu salário? R$1500\n",
            "O valor por carro vendido: R$150\n",
            "Quantidade de carros vendidos:10\n",
            "O valor do salário deste mês ficará no valor de R$ 3000.0\n"
          ]
        }
      ],
      "source": [
        "# Algoritmo que calcule um novo salario de um vendedor com base no seu número de vendas\n",
        "\n",
        "# Variáveis\n",
        "\n",
        "\n",
        "num_vend = '101010'\n",
        "num = '0'\n",
        "sal = 0.0\n",
        "carros = 0\n",
        "val_car = 0.0\n",
        "sal_final = 0.0\n",
        "\n",
        "# Inicio\n",
        "\n",
        "# Verificação se o n° de vendedor é correspondente + Cálculo do salário final baseado nas vendas do funcionário\n",
        "while True:\n",
        "  num = str(input('Escreva seu n° de vendedor:'))\n",
        "  if num_vend == num:\n",
        "    sal = float(input('Qual o seu salário? R$'))\n",
        "    val_car = float(input('O valor por carro vendido: R$'))\n",
        "    carros = int(input('Quantidade de carros vendidos:'))\n",
        "    sal_final = sal + val_car * carros\n",
        "\n",
        "    # Resultados\n",
        "    print('O valor do salário deste mês ficará no valor de R$', sal_final)\n",
        "    break\n",
        "  else:\n",
        "    print('Número de vendedor errado! Tente novamente.')\n",
        "\n",
        "# Fim\n",
        "\n",
        "\n",
        "\n",
        "\n"
      ]
    },
    {
      "cell_type": "markdown",
      "metadata": {
        "id": "rv7bD4aFKnLL"
      },
      "source": [
        "# 11: **Uma empresa, para emitir a sua folha de pagamento mensal, trabalha com os seguintes dados:**\n",
        "\n",
        "# **Relativos ao Sistema de Pagamentos**\n",
        "\n",
        "Valor da Hora Normal = 8,00\n",
        "\n",
        "Valor da Hora Extra = 9,50\n",
        "\n",
        "Valor do Acréscimo por Dependente = 2,50\n",
        "\n",
        "# **Relativos a cada Funcionário**\n",
        "\n",
        "Número de Identificação\n",
        "\n",
        "Nome e horas normais trabalhadas\n",
        "\n",
        "Número de horas extras trabalhadas\n",
        "\n",
        "Número de dependentes\n",
        "\n",
        "# **O cálculo do salário de cada funcionário é feito em 3 etapas:**\n",
        "\n",
        "**Etapa 1 : Cálculo do Salário Bruto**\n",
        "\n",
        "SALARIO BRUTO = Valor Total de Horas Normais + Valor Total de Horas Extras + Valor Total de Dependentes\n",
        "\n",
        "**Etapa 2 : Descontos**\n",
        "\n",
        "Todos os funcionários são isentos de imposto de renda, e descontam 5% do salário bruto para o INSS.\n",
        "\n",
        "**Etapa 3 : Salário Líquido**\n",
        "\n",
        "SALARIO LÍQUIDO = SALARIO BRUTO - DESCONTO\n",
        "\n",
        "# Escrever um algoritmo em Python que leia os dados referentes ao funcionário, calcule e escreva o salário líquido do funcionário da empresa. **Obs.: Além do salário líquido, escreva o número de identificação e o nome do funcionário.**"
      ]
    },
    {
      "cell_type": "code",
      "execution_count": null,
      "metadata": {
        "colab": {
          "base_uri": "https://localhost:8080/"
        },
        "id": "N0iDc1ULLojk",
        "outputId": "e01c4115-919c-4396-d08d-222c1d10d38c"
      },
      "outputs": [
        {
          "name": "stdout",
          "output_type": "stream",
          "text": [
            "Qual seu n° de identificação:4505\n",
            "Errado! Tente novamente.\n",
            "Qual seu n° de identificação:4090\n",
            "Escreva seu nome:Augusto\n",
            "Escreva a quantidade de horas que você trabalha em um mês:160\n",
            "Escreva a quantidade de horas extras que você fez este mês:40\n",
            "Escreva o número de dependentes:10\n",
            "O funcionário Augusto com n° de identificação 4090 terá um salário líquido de 1600.75\n"
          ]
        }
      ],
      "source": [
        "# Algoritmo que leia os dados referentes ao funcionário, calcule e escreva o salário líquido do funcionário da empresa\n",
        "\n",
        "# Variáveis\n",
        "\n",
        "vh = 8.0\n",
        "vhx = 9.5\n",
        "vad = 2.5\n",
        "ident = '4090'\n",
        "ident_func = '0'\n",
        "nome = '0'\n",
        "horas = 0.0\n",
        "horas_ex = 0.0\n",
        "dep = 0\n",
        "sal_bruto = 0.0\n",
        "inss = 0.05\n",
        "inss_desc = 0.0\n",
        "sal_liq = 0.0\n",
        "\n",
        "# Inicio\n",
        "\n",
        "# Verificação se o n° de identificação é correspondente + cálculo do novo salário líquido\n",
        "while True:\n",
        "  ident_func = str(input('Qual seu n° de identificação:'))\n",
        "  if ident == ident_func:\n",
        "    nome = str(input('Escreva seu nome:'))\n",
        "    horas = float(input('Escreva a quantidade de horas que você trabalha em um mês:'))\n",
        "    horas_ex = float(input('Escreva a quantidade de horas extras que você fez este mês:'))\n",
        "    dep = int(input('Escreva o número de dependentes:'))\n",
        "    sal_bruto = (horas * vh) + (horas_ex * vhx) + (dep * vad)\n",
        "    inss_desc = sal_bruto * inss\n",
        "    sal_liq = sal_bruto - inss_desc\n",
        "\n",
        "    # Resultados\n",
        "    print('O funcionário {} com n° de identificação {} terá um salário líquido de {}'.format(nome, ident_func, sal_liq))\n",
        "    break\n",
        "  else:\n",
        "    print('Errado! Tente novamente.')\n",
        "\n",
        "# Fim."
      ]
    },
    {
      "cell_type": "code",
      "execution_count": null,
      "metadata": {
        "colab": {
          "base_uri": "https://localhost:8080/"
        },
        "id": "rqJvj3Aeg6t0",
        "outputId": "9c494f3c-4fa1-4ed0-dcca-8d3908aa9be4"
      },
      "outputs": [
        {
          "name": "stdout",
          "output_type": "stream",
          "text": [
            "Escreva um n° real (ex: 12,5)12,5\n",
            "O dobro desse numero é 25.0\n"
          ]
        }
      ],
      "source": [
        "numero = input('Escreva um n° real (ex: 12,5)')\n",
        "numero = float(numero.replace(\",\", \".\"))\n",
        "dobro = numero * 2\n",
        "print('O dobro desse numero é {}'.format(dobro))\n"
      ]
    }
  ],
  "metadata": {
    "colab": {
      "authorship_tag": "ABX9TyOIl/d04ABWVA1Quhce72BF",
      "include_colab_link": true,
      "provenance": []
    },
    "kernelspec": {
      "display_name": "Python 3",
      "name": "python3"
    },
    "language_info": {
      "name": "python"
    }
  },
  "nbformat": 4,
  "nbformat_minor": 0
}
