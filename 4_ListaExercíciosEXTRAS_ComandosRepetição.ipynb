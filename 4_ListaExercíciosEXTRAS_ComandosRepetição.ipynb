{
  "nbformat": 4,
  "nbformat_minor": 0,
  "metadata": {
    "colab": {
      "provenance": [],
      "authorship_tag": "ABX9TyMvfE9tNue2tv+1U3oFzCCc",
      "include_colab_link": true
    },
    "kernelspec": {
      "name": "python3",
      "display_name": "Python 3"
    },
    "language_info": {
      "name": "python"
    }
  },
  "cells": [
    {
      "cell_type": "markdown",
      "metadata": {
        "id": "view-in-github",
        "colab_type": "text"
      },
      "source": [
        "<a href=\"https://colab.research.google.com/github/gutomachaddo/PensamentoComputacional/blob/main/4_ListaExerc%C3%ADciosEXTRAS_ComandosRepeti%C3%A7%C3%A3o.ipynb\" target=\"_parent\"><img src=\"https://colab.research.google.com/assets/colab-badge.svg\" alt=\"Open In Colab\"/></a>"
      ]
    },
    {
      "cell_type": "markdown",
      "source": [
        "# 1) Escreva um programa que lê um número inteiro N do usuário. O programa deverá escrever na tela o fatorial desse número (N!).\n",
        "Exemplo de entrada:\n",
        "\n",
        "5\n",
        "\n",
        "Saída:\n",
        "\n",
        "120\n",
        "\n",
        "Exemplo de entrada:\n",
        "\n",
        "8\n",
        "\n",
        "Saída:\n",
        "\n",
        "40320"
      ],
      "metadata": {
        "id": "iKIV-2F5i2Pr"
      }
    },
    {
      "cell_type": "code",
      "execution_count": null,
      "metadata": {
        "colab": {
          "base_uri": "https://localhost:8080/"
        },
        "id": "0Fr27rDmivrL",
        "outputId": "2d6c8af2-2963-4912-f82f-54804a44df35"
      },
      "outputs": [
        {
          "output_type": "stream",
          "name": "stdout",
          "text": [
            "Escreva um número inteiro positivo:8\n",
            "O fatorial de 8 é 40320\n"
          ]
        }
      ],
      "source": [
        "# Algoritmo fatorial\n",
        "\n",
        "# Variáveis\n",
        "\n",
        "i = 0\n",
        "fatorial = 1\n",
        "\n",
        "# Inicio\n",
        "\n",
        "n = int(input('Escreva um número inteiro positivo:'))\n",
        "\n",
        "for i in range(1, n+1):\n",
        "  fatorial *= i\n",
        "  if i == n:\n",
        "    print(f'O fatorial de {n} é {fatorial}')\n",
        "\n",
        "\n",
        "# Fim."
      ]
    },
    {
      "cell_type": "markdown",
      "source": [
        "# 2) Escreva um programa para uma urna eletrônica. O programa fica lendo os votos até que o usuário informe o valor 4444444 (código de finalização da urna). Após a finalização da urna, o programa deverá escrever na tela a quantidade de votos e o percentual de votos para cada uma das opções abaixo:\n",
        "\n",
        "a. Votos no Candidato 77\n",
        "\n",
        "b. Votos no Candidato 39\n",
        "\n",
        "c. Votos no Candidato 66\n",
        "\n",
        "d. Voto em branco (0)\n",
        "\n",
        "e. Votos nulos (nenhuma das opções anteriores)\n",
        "\n",
        "f. Votos válidos (aqueles computados para algum candidato)\n",
        "\n",
        "g. Votos não válidos"
      ],
      "metadata": {
        "id": "cGW7byalzJLs"
      }
    },
    {
      "cell_type": "code",
      "source": [
        "# Algoritmo\n",
        "\n",
        "# Variáveis\n",
        "\n",
        "total = 0\n",
        "c1 = 0\n",
        "c2 = 0\n",
        "c3 = 0\n",
        "b = 0\n",
        "n = 0\n",
        "val = 0\n",
        "nval = 0\n",
        "voto = '0'\n",
        "\n",
        "# Inicio\n",
        "while True:\n",
        "  voto = str(input('1° candidato: (77) \\n 2° candidato (39) \\n 3° candidato (66) \\n voto em branco (0) \\n p/ encerrar (4444444)'))\n",
        "\n",
        "  if voto == '77':\n",
        "    c1 += 1\n",
        "  elif voto == '39':\n",
        "    c2 += 1\n",
        "  elif voto == '66':\n",
        "    c3 += 1\n",
        "  elif voto == '0':\n",
        "    b += 1\n",
        "  elif voto != '77' and voto != '39' and voto != '66' and voto != '0':\n",
        "    n += 1\n",
        "  if voto == '4444444':\n",
        "    total = c1 + c2 + c3 + b + n\n",
        "    nval = n\n",
        "    val = c1 + c2 + c3\n",
        "    percentc1 = (c1 / total) * 100\n",
        "\n",
        "    print(f'1° candidato: {c1} votos / {round((c1 / total) * 100, 2)}% dos votos')\n",
        "    print(f'2° candidato: {c2} votos / {round((c2 / total) * 100, 2)}% dos votos')\n",
        "    print(f'3° candidato: {c3} votos / {round((c3 / total) * 100, 2)}% dos votos')\n",
        "    print(f'O número de votos em branco é {b}, representando {round((b / total)*100, 2)} % dos votos')\n",
        "    print(f'O número de votos nulos é {n} votos, representando {round((n/total)*100, 2)} % dos votos')\n",
        "    print(f'O número de votos válidos é {val}, representando {round((val/total)*100, 2)} % dos votos')\n",
        "    print(f'O número de votos não válidos é {nval}, representando {round((nval /total)*100, 2)} % dos votos')\n",
        "    break\n",
        "# Fim."
      ],
      "metadata": {
        "id": "AQgTeBx2zRgE",
        "colab": {
          "base_uri": "https://localhost:8080/"
        },
        "outputId": "4c9ad2d4-a5d7-43bb-8a34-b4c4448b6e0d"
      },
      "execution_count": null,
      "outputs": [
        {
          "output_type": "stream",
          "name": "stdout",
          "text": [
            "1° candidato: (77) \n",
            " 2° candidato (39) \n",
            " 3° candidato (66) \n",
            " voto em branco (0) \n",
            " p/ encerrar (4444444)77\n",
            "1° candidato: (77) \n",
            " 2° candidato (39) \n",
            " 3° candidato (66) \n",
            " voto em branco (0) \n",
            " p/ encerrar (4444444)4444444\n",
            "1° candidato: 1 votos / 50.0% dos votos\n",
            "2° candidato: 0 votos / 0.0% dos votos\n",
            "3° candidato: 0 votos / 0.0% dos votos\n",
            "O número de votos em branco é 0, representando 0.0 % dos votos\n",
            "O número de votos nulos é 1 votos, representando 50.0 % dos votos\n",
            "O número de votos válidos é 1, representando 50.0 % dos votos\n",
            "O número de votos não válidos é 1, representando 50.0 % dos votos\n"
          ]
        }
      ]
    }
  ]
}