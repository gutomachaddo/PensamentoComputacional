{
  "nbformat": 4,
  "nbformat_minor": 0,
  "metadata": {
    "colab": {
      "provenance": [],
      "authorship_tag": "ABX9TyNyYYfhUJ9BL76OV73LlI4d"
    },
    "kernelspec": {
      "name": "python3",
      "display_name": "Python 3"
    },
    "language_info": {
      "name": "python"
    }
  },
  "cells": [
    {
      "cell_type": "markdown",
      "source": [
        "# 1. Faça um algoritmo em Python que leia a nota de vários alunos de uma turma. Ao final, deve ser escrita a média geral da turma. A leitura das médias somente encerra quando uma nota negativa for digitada."
      ],
      "metadata": {
        "id": "-e9yfyQBCr-8"
      }
    },
    {
      "cell_type": "code",
      "execution_count": null,
      "metadata": {
        "colab": {
          "base_uri": "https://localhost:8080/"
        },
        "id": "HK5BsVMLCknm",
        "outputId": "f41bb157-00ac-4317-cf72-389c94f143b5"
      },
      "outputs": [
        {
          "output_type": "stream",
          "name": "stdout",
          "text": [
            "Escreva sua nota ou um número negativo para encerrar:8\n",
            "Escreva sua nota ou um número negativo para encerrar:9\n",
            "Escreva sua nota ou um número negativo para encerrar:1\n",
            "Escreva sua nota ou um número negativo para encerrar:-8\n",
            "A media da turma é 6.0\n"
          ]
        }
      ],
      "source": [
        "# Algoritmo 1\n",
        "\n",
        "# Variáveis\n",
        "\n",
        "nota = 0.0\n",
        "media = 0.0\n",
        "soma = 0.0\n",
        "i = 0\n",
        "# Inicio\n",
        "while i < i+2:\n",
        "  nota = float(input('Escreva sua nota ou um número negativo para encerrar:'))\n",
        "  if nota >= 0:\n",
        "    soma += nota\n",
        "    i += 1\n",
        "    media = soma / i\n",
        "  else:\n",
        "    i += 2\n",
        "    print(\"A media da turma é {}\".format(round(media, 2)))\n",
        "    break\n",
        "\n",
        "\n",
        "# Fim."
      ]
    },
    {
      "cell_type": "markdown",
      "source": [
        "# 2. Faça um programa em Python para repetir a leitura de um número enquanto o valor fornecido for diferente de 0. Para cada número fornecido, escrever se ele é NEGATIVO ou POSITIVO. Quando o número 0 for fornecido o algoritmo deve encerrar informando o usuário."
      ],
      "metadata": {
        "id": "CYQOUw_gFEGf"
      }
    },
    {
      "cell_type": "code",
      "source": [
        "# Algoritmo 2\n",
        "\n",
        "# Variáveis\n",
        "\n",
        "n = 1\n",
        "\n",
        "# Inicio\n",
        "while n != 0:\n",
        "  n = float(input('Escreva um número ou 0 p/ encerrar:'))\n",
        "  if n > 0:\n",
        "    print('O número é POSITIVO!')\n",
        "  elif n < 0:\n",
        "    print('O número é NEGATIVO!')\n",
        "  else:\n",
        "    print('ALGORITMO ENCERRADO.')\n",
        "\n",
        "# Fim."
      ],
      "metadata": {
        "colab": {
          "base_uri": "https://localhost:8080/"
        },
        "id": "H6mjGQ-OFJLl",
        "outputId": "d263c719-1468-42a6-d656-66a354ae000f"
      },
      "execution_count": null,
      "outputs": [
        {
          "output_type": "stream",
          "name": "stdout",
          "text": [
            "Escreva um número ou 0 p/ encerrar:1\n",
            "O número é POSITIVO!\n",
            "Escreva um número ou 0 p/ encerrar:-5\n",
            "O número é NEGATIVO!\n",
            "Escreva um número ou 0 p/ encerrar:0\n",
            "ALGORITMO ENCERRADO.\n"
          ]
        }
      ]
    },
    {
      "cell_type": "markdown",
      "source": [
        "# 3. Faça um programa em Python para ler uma quantidade indeterminada de valores inteiros. Para cada valor fornecido apresentar uma mensagem que indique se o valor fornecido é PAR ou ÍMPAR. O programa será encerrado imediatamente após a leitura de um valor NULO (zero) ou NEGATIVO."
      ],
      "metadata": {
        "id": "qjlLBt9uGDsJ"
      }
    },
    {
      "cell_type": "code",
      "source": [
        "# Algoritmo 3\n",
        "\n",
        "# Variáveis\n",
        "\n",
        "num = 1\n",
        "verificar = 0.0\n",
        "\n",
        "# Inicio\n",
        "\n",
        "while num > 0:\n",
        "  num = int(input('Escreva um número inteiro positivo, ou um número nulo/ negativo para encerrar:'))\n",
        "  if num % 2 == 0 and num != 0 and num > 0:\n",
        "    print('O número escrito é PAR!')\n",
        "  elif num % 2 != 0 and num > 0:\n",
        "    print('O número é ÍMPAR!')\n",
        "  else:\n",
        "    print('ALGORITMO ENCERRADO!')\n",
        "\n",
        "# Fim."
      ],
      "metadata": {
        "colab": {
          "base_uri": "https://localhost:8080/"
        },
        "id": "ytyd-iLHGI64",
        "outputId": "5562a86e-850f-4c10-b7b5-bdd450563d3a"
      },
      "execution_count": null,
      "outputs": [
        {
          "output_type": "stream",
          "name": "stdout",
          "text": [
            "Escreva um número inteiro positivo, ou um número nulo/ negativo para encerrar:18\n",
            "O número escrito é PAR!\n",
            "Escreva um número inteiro positivo, ou um número nulo/ negativo para encerrar:16\n",
            "O número escrito é PAR!\n",
            "Escreva um número inteiro positivo, ou um número nulo/ negativo para encerrar:3\n",
            "O número é ÍMPAR!\n",
            "Escreva um número inteiro positivo, ou um número nulo/ negativo para encerrar:-18\n",
            "ALGORITMO ENCERRADO!\n"
          ]
        }
      ]
    },
    {
      "cell_type": "markdown",
      "source": [
        "### 4. Sabe-se que não existe divisão por zero, para isso faça um programa que leia dois valores inteiros e escreva o resultado da divisão do primeiro pelo segundo. Se o segundo valor informado for ZERO, deve ser impressa uma mensagem de VALOR INVÁLIDO e uma nova leitura do segundo valor deve ser realizada. Ao final do programa deve ser impressa a seguinte mensagem: VOCÊ DESEJA OUTRO CÁLCULO (S/N). Se a resposta for S o programa deverá retornar ao começo, caso contrário deverá encerrar."
      ],
      "metadata": {
        "id": "8XRnjlxEHidY"
      }
    },
    {
      "cell_type": "code",
      "source": [
        "# Algoritmo 4\n",
        "\n",
        "# Variáveis\n",
        "\n",
        "num1 = 0\n",
        "num2 = 0\n",
        "r = ''\n",
        "div = 0.0\n",
        "# Inicio\n",
        "\n",
        "while r != 'n':\n",
        "  num1 = int(input('Escreva um número inteiro positivo:'))\n",
        "  num2 = int(input('Escreva outro:'))\n",
        "  if num2 == 0:\n",
        "    while num2 == 0:\n",
        "      print(\"O valor informado é INVÁLIDO:\")\n",
        "      num2 = int(input('Escreva novamente:'))\n",
        "      div = num1 / num2\n",
        "      print('A divisão do primeiro pelo segundo número é', div)\n",
        "      r = str(input('Deseja realizar outro cálculo?'))\n",
        "\n",
        "\n",
        "\n",
        "# Fim."
      ],
      "metadata": {
        "colab": {
          "base_uri": "https://localhost:8080/"
        },
        "id": "JrBDNa6pHr2h",
        "outputId": "692ccb2d-fb2f-4136-f1bb-9a5781c8c792"
      },
      "execution_count": null,
      "outputs": [
        {
          "name": "stdout",
          "output_type": "stream",
          "text": [
            "Escreva um número inteiro positivo:8\n",
            "Escreva outro:0\n",
            "O valor informado é INVÁLIDO:\n",
            "Escreva novamente:1\n",
            "A divisão do primeiro pelo segundo número é 8.0\n",
            "Deseja realizar outro cálculo?n\n"
          ]
        }
      ]
    },
    {
      "cell_type": "markdown",
      "source": [
        "#### 5. Faça um programa em Python que verifique a validade de uma senha fornecida pelo usuário. A senha válida é o número 1234. OBS: Se a senha informada pelo usuário for inválida, a mensagem \"ACESSO NEGADO\" deve ser impressa e repetida a solicitação de uma nova senha até que ela seja válida. Caso contrário deve ser impressa a mensagem \"ACESSO PERMITIDO\" junto com um número que representa quantas vezes a senha foi informada."
      ],
      "metadata": {
        "id": "y8lHW2QMKCWL"
      }
    },
    {
      "cell_type": "code",
      "source": [
        "# Algoritmo 6\n",
        "import time\n",
        "\n",
        "# Variáveis\n",
        "\n",
        "senha = \"1234\"\n",
        "senha_digitada = \"\"\n",
        "cnt = 0\n",
        "\n",
        "#Inicio\n",
        "\n",
        "while True:\n",
        "  senha_digitada = input('digite a senha:')\n",
        "  cnt += 1\n",
        "\n",
        "  if senha_digitada == senha:\n",
        "    break\n",
        "  else:\n",
        "    print(\"ACESSO NEGADO\")\n",
        "\n",
        "  if cnt >= 3:\n",
        "    print(\"3 tentativas erradas! Aguarde\",cnt* 2,\" segundos para tentar novamente\")\n",
        "    time.sleep(cnt * 2) # 'Dorme por 60 segundos'\n",
        "\n",
        "print('ACESSO PERMITIDO!')\n",
        "\n",
        "# Fim."
      ],
      "metadata": {
        "colab": {
          "base_uri": "https://localhost:8080/"
        },
        "id": "kLQzERDHKPqy",
        "outputId": "248f8fe0-5a90-429c-9b17-958bd9ae057d"
      },
      "execution_count": null,
      "outputs": [
        {
          "output_type": "stream",
          "name": "stdout",
          "text": [
            "digite a senha:1\n",
            "ACESSO NEGADO\n",
            "digite a senha:1\n",
            "ACESSO NEGADO\n",
            "digite a senha:1\n",
            "ACESSO NEGADO\n",
            "3 tentativas erradas! Aguarde 6  segundos para tentar novamente\n",
            "digite a senha:1234\n",
            "ACESSO PERMITIDO!\n"
          ]
        }
      ]
    },
    {
      "cell_type": "markdown",
      "source": [
        "### 6. Faça um programa em Python que verifique a validade de uma senha fornecida pelo usuário. A senha válida é o número 1234. Se a senha informada pelo usuário for válida a mensagem \"ACESSO PERMITIDO\" deve ser informada. O usuário não terá acesso ao sistema se errar a senha três vezes, neste caso a mensagem \"ACESSO NEGADO\" deve ser informada e a cada vez que o usuário errar a senha, dentro do limite, a mensagem informada será \"SENHA ERRADA, TENTATIVA X DE 3\", sendo o X o número da tentativa."
      ],
      "metadata": {
        "id": "a1-xaF9FKxHj"
      }
    },
    {
      "cell_type": "code",
      "source": [
        "# Algoritmo 6\n",
        "import time\n",
        "\n",
        "# Variáveis\n",
        "\n",
        "senha = \"1234\"\n",
        "senha_digitada = \"\"\n",
        "cnt = 0\n",
        "\n",
        "#Inicio\n",
        "\n",
        "while True:\n",
        "  senha_digitada = input('digite a senha:')\n",
        "  cnt += 1\n",
        "\n",
        "  if senha_digitada == senha:\n",
        "    break\n",
        "  else:\n",
        "    print(\"ACESSO NEGADO\")\n",
        "\n",
        "  if cnt >= 3:\n",
        "    print(\"3 tentativas erradas! Aguarde\",cnt* 2,\" segundos para tentar novamente\")\n",
        "    time.sleep(cnt * 2) # 'Dorme por 60 segundos'\n",
        "\n",
        "print('ACESSO PERMITIDO!')\n",
        "\n",
        "# Fim."
      ],
      "metadata": {
        "colab": {
          "base_uri": "https://localhost:8080/"
        },
        "id": "UUB8a-RYK6K0",
        "outputId": "4e7d5887-f95c-4da9-8a6e-43f011de43bc"
      },
      "execution_count": null,
      "outputs": [
        {
          "output_type": "stream",
          "name": "stdout",
          "text": [
            "digite a senha:2\n",
            "ACESSO NEGADO\n",
            "digite a senha:2\n",
            "ACESSO NEGADO\n",
            "digite a senha:2\n",
            "ACESSO NEGADO\n",
            "3 tentativas erradas! Aguarde 6  segundos para tentar novamente\n"
          ]
        }
      ]
    }
  ]
}