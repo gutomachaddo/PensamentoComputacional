{
  "nbformat": 4,
  "nbformat_minor": 0,
  "metadata": {
    "colab": {
      "provenance": [],
      "authorship_tag": "ABX9TyO7zo58BhDH1B9cZ7D07zzP"
    },
    "kernelspec": {
      "name": "python3",
      "display_name": "Python 3"
    },
    "language_info": {
      "name": "python"
    }
  },
  "cells": [
    {
      "cell_type": "code",
      "source": [
        "def soma(a, b):\n",
        "  return a + b\n",
        "\n",
        "def sub(a, b):\n",
        "  return a - b\n",
        "\n",
        "def mult(a, b):\n",
        "  return a * b\n",
        "\n",
        "def div(a, b):\n",
        "  return a / b\n",
        "\n",
        "def raiz(a, b):\n",
        "  return a ** (1/b)\n",
        "\n",
        "def pot(a, b):\n",
        "  return a ** b\n",
        "\n",
        "def div_inteira(a, b):\n",
        "  return a // b\n",
        "\n",
        "def resto(a, b):\n",
        "  return a % b"
      ],
      "metadata": {
        "id": "E_tLipv1AXlt"
      },
      "execution_count": null,
      "outputs": []
    },
    {
      "cell_type": "code",
      "source": [
        "op_string =   '      Digite + para soma, - para subtração,'\n",
        "op_string += '\\n    * para multiplicação, '\n",
        "op_string += '\\n    / para divisão, '\n",
        "op_string += '\\n    $ para a raiz do primeiro pelo segundo, '\n",
        "op_string += '\\n    ** para a potência do primeiro pelo segundo, '\n",
        "op_string += '\\n    div para divisão inteira, '\n",
        "op_string += '\\n    mod para o resto da divisão inteira ou '\n",
        "op_string += '\\n    s para sair: '\n",
        "\n",
        "while True:\n",
        "\n",
        "  operacao = input(op_string)\n",
        "  if (operacao == 's'):\n",
        "    break\n",
        "\n",
        "  a = float(input('Digite o primeiro valor:'))\n",
        "  b = float(input('Digite o segundo valor:'))\n",
        "\n",
        "  if operacao == '+':\n",
        "    print(f'O resultado da soma de {a} e {b} é {soma(a,b)}')\n",
        "  elif operacao == '-':\n",
        "    print(f'O resultado da subtração de {a} e {b} é {sub(a,b)}')\n",
        "  elif operacao == '*':\n",
        "    print(f'O resultado da multiplicação de {a} e {b} é {mult(a,b)}')\n",
        "  elif operacao == '/':\n",
        "    if b == 0:\n",
        "      print('O segundo numero deve ser maior do que 0')\n",
        "    else:\n",
        "      print(f'O resultado da divisão de {a} e {b} é {div(a,b)}')\n",
        "  elif operacao == '$':\n",
        "     print(f'O resultado da raiz de {a} e {b} é {raiz(a, b)}')\n",
        "  elif operacao == '**':\n",
        "    print(f'O resultado da potência de {a} e {b} é {pot(a, b)}')\n",
        "  elif operacao == 'div':\n",
        "    print(f'O resultado da divisão inteira de {a} por {b} é {div_inteira(a, b)}')\n",
        "  elif operacao == 'mod':\n",
        "    print(f'O resultado do resto da divisão inteira de {a} por {b} é {resto(a, b)}')\n",
        "  else:\n",
        "    print('Comando inválido!')\n",
        "\n",
        "  if (operacao == 's'):\n",
        "    break"
      ],
      "metadata": {
        "id": "JA-5dJIkAbP9",
        "outputId": "b7061255-2578-454a-fd22-7621d26c9aec",
        "colab": {
          "base_uri": "https://localhost:8080/"
        }
      },
      "execution_count": null,
      "outputs": [
        {
          "name": "stdout",
          "output_type": "stream",
          "text": [
            "      Digite + para soma, - para subtração,\n",
            "    * para multiplicação, \n",
            "    / para divisão, \n",
            "    $ para a raiz do primeiro pelo segundo, \n",
            "    ** para a potência do primeiro pelo segundo, \n",
            "    div para divisão inteira, \n",
            "    mod para o resto da divisão inteira ou \n",
            "    s para sair: $\n",
            "Digite o primeiro valor:9\n",
            "Digite o segundo valor:2\n",
            "O resultado da raiz de 9.0 e 2.0 é 3.0\n",
            "      Digite + para soma, - para subtração,\n",
            "    * para multiplicação, \n",
            "    / para divisão, \n",
            "    $ para a raiz do primeiro pelo segundo, \n",
            "    ** para a potência do primeiro pelo segundo, \n",
            "    div para divisão inteira, \n",
            "    mod para o resto da divisão inteira ou \n",
            "    s para sair: s\n"
          ]
        }
      ]
    }
  ]
}