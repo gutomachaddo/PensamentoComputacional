{
  "nbformat": 4,
  "nbformat_minor": 0,
  "metadata": {
    "colab": {
      "provenance": [],
      "authorship_tag": "ABX9TyO5u7cpTJOzik/qXI2Pd24Z",
      "include_colab_link": true
    },
    "kernelspec": {
      "name": "python3",
      "display_name": "Python 3"
    },
    "language_info": {
      "name": "python"
    }
  },
  "cells": [
    {
      "cell_type": "markdown",
      "metadata": {
        "id": "view-in-github",
        "colab_type": "text"
      },
      "source": [
        "<a href=\"https://colab.research.google.com/github/gutomachaddo/PensamentoComputacional/blob/main/3_ListaExerc%C3%ADciosComandosRepeti%C3%A7%C3%A3o.ipynb\" target=\"_parent\"><img src=\"https://colab.research.google.com/assets/colab-badge.svg\" alt=\"Open In Colab\"/></a>"
      ]
    },
    {
      "cell_type": "markdown",
      "source": [
        "\n",
        "# 1. Faça o teste de mesa no algoritmo a seguir:\n",
        "```python\n",
        "ALGORITMO TABUADA_9;\n",
        "\n",
        "  VAR\n",
        "\n",
        "    N, X, R : INTEIRO;\n",
        "\n",
        "  INICIO\n",
        "\n",
        "    PARA X DE 1 ATE 10 FACA\n",
        "\n",
        "      INICIO\n",
        "\n",
        "        R ← 9 * X;\n",
        "\n",
        "        ESCREVER ( X, ‘ x 9 = ’, R);\n",
        "\n",
        "      FIM;\n",
        "\n",
        "    FIM_PARA;\n",
        "\n",
        "FIM.\n",
        "```"
      ],
      "metadata": {
        "id": "caKQ4_34hzGp"
      }
    },
    {
      "cell_type": "code",
      "execution_count": 2,
      "metadata": {
        "colab": {
          "base_uri": "https://localhost:8080/"
        },
        "id": "dNouXtN6hvmA",
        "outputId": "f060fbdc-a87c-4323-e870-54eb3f73bcc5"
      },
      "outputs": [
        {
          "output_type": "stream",
          "name": "stdout",
          "text": [
            "1 x 9 = 9\n",
            "2 x 9 = 18\n",
            "3 x 9 = 27\n",
            "4 x 9 = 36\n",
            "5 x 9 = 45\n",
            "6 x 9 = 54\n",
            "7 x 9 = 63\n",
            "8 x 9 = 72\n",
            "9 x 9 = 81\n",
            "10 x 9 = 90\n"
          ]
        }
      ],
      "source": [
        "# Algoritmo 1\n",
        "\n",
        "# Variáveis\n",
        "\n",
        "X = 0\n",
        "R = 0\n",
        "\n",
        "# Inicio\n",
        "\n",
        "for X in range(1, 11):\n",
        "  R = 9 * X\n",
        "  print('{} x 9 = {}'.format(X, R))\n",
        "# Fim.\n"
      ]
    },
    {
      "cell_type": "markdown",
      "source": [
        "# 2. Faça um programa em Python que mostre todos os números inteiros ímpares situados na faixa de 1000 a 1500."
      ],
      "metadata": {
        "id": "gRQxFrkfmjk1"
      }
    },
    {
      "cell_type": "code",
      "source": [
        "# Algoritmo 2\n",
        "\n",
        "# Variáveis\n",
        "\n",
        "x = 0\n",
        "\n",
        "# Inicio\n",
        "\n",
        "for x in range(1000, 1500):\n",
        "  if x % 2 != 0:\n",
        "    print(x)\n",
        "\n",
        "# Fim."
      ],
      "metadata": {
        "colab": {
          "base_uri": "https://localhost:8080/"
        },
        "id": "QdVucVQpnU3u",
        "outputId": "bc34318e-8c79-4d46-ea59-7483379aa3fb"
      },
      "execution_count": null,
      "outputs": [
        {
          "output_type": "stream",
          "name": "stdout",
          "text": [
            "1001\n",
            "1003\n",
            "1005\n",
            "1007\n",
            "1009\n",
            "1011\n",
            "1013\n",
            "1015\n",
            "1017\n",
            "1019\n",
            "1021\n",
            "1023\n",
            "1025\n",
            "1027\n",
            "1029\n",
            "1031\n",
            "1033\n",
            "1035\n",
            "1037\n",
            "1039\n",
            "1041\n",
            "1043\n",
            "1045\n",
            "1047\n",
            "1049\n",
            "1051\n",
            "1053\n",
            "1055\n",
            "1057\n",
            "1059\n",
            "1061\n",
            "1063\n",
            "1065\n",
            "1067\n",
            "1069\n",
            "1071\n",
            "1073\n",
            "1075\n",
            "1077\n",
            "1079\n",
            "1081\n",
            "1083\n",
            "1085\n",
            "1087\n",
            "1089\n",
            "1091\n",
            "1093\n",
            "1095\n",
            "1097\n",
            "1099\n",
            "1101\n",
            "1103\n",
            "1105\n",
            "1107\n",
            "1109\n",
            "1111\n",
            "1113\n",
            "1115\n",
            "1117\n",
            "1119\n",
            "1121\n",
            "1123\n",
            "1125\n",
            "1127\n",
            "1129\n",
            "1131\n",
            "1133\n",
            "1135\n",
            "1137\n",
            "1139\n",
            "1141\n",
            "1143\n",
            "1145\n",
            "1147\n",
            "1149\n",
            "1151\n",
            "1153\n",
            "1155\n",
            "1157\n",
            "1159\n",
            "1161\n",
            "1163\n",
            "1165\n",
            "1167\n",
            "1169\n",
            "1171\n",
            "1173\n",
            "1175\n",
            "1177\n",
            "1179\n",
            "1181\n",
            "1183\n",
            "1185\n",
            "1187\n",
            "1189\n",
            "1191\n",
            "1193\n",
            "1195\n",
            "1197\n",
            "1199\n",
            "1201\n",
            "1203\n",
            "1205\n",
            "1207\n",
            "1209\n",
            "1211\n",
            "1213\n",
            "1215\n",
            "1217\n",
            "1219\n",
            "1221\n",
            "1223\n",
            "1225\n",
            "1227\n",
            "1229\n",
            "1231\n",
            "1233\n",
            "1235\n",
            "1237\n",
            "1239\n",
            "1241\n",
            "1243\n",
            "1245\n",
            "1247\n",
            "1249\n",
            "1251\n",
            "1253\n",
            "1255\n",
            "1257\n",
            "1259\n",
            "1261\n",
            "1263\n",
            "1265\n",
            "1267\n",
            "1269\n",
            "1271\n",
            "1273\n",
            "1275\n",
            "1277\n",
            "1279\n",
            "1281\n",
            "1283\n",
            "1285\n",
            "1287\n",
            "1289\n",
            "1291\n",
            "1293\n",
            "1295\n",
            "1297\n",
            "1299\n",
            "1301\n",
            "1303\n",
            "1305\n",
            "1307\n",
            "1309\n",
            "1311\n",
            "1313\n",
            "1315\n",
            "1317\n",
            "1319\n",
            "1321\n",
            "1323\n",
            "1325\n",
            "1327\n",
            "1329\n",
            "1331\n",
            "1333\n",
            "1335\n",
            "1337\n",
            "1339\n",
            "1341\n",
            "1343\n",
            "1345\n",
            "1347\n",
            "1349\n",
            "1351\n",
            "1353\n",
            "1355\n",
            "1357\n",
            "1359\n",
            "1361\n",
            "1363\n",
            "1365\n",
            "1367\n",
            "1369\n",
            "1371\n",
            "1373\n",
            "1375\n",
            "1377\n",
            "1379\n",
            "1381\n",
            "1383\n",
            "1385\n",
            "1387\n",
            "1389\n",
            "1391\n",
            "1393\n",
            "1395\n",
            "1397\n",
            "1399\n",
            "1401\n",
            "1403\n",
            "1405\n",
            "1407\n",
            "1409\n",
            "1411\n",
            "1413\n",
            "1415\n",
            "1417\n",
            "1419\n",
            "1421\n",
            "1423\n",
            "1425\n",
            "1427\n",
            "1429\n",
            "1431\n",
            "1433\n",
            "1435\n",
            "1437\n",
            "1439\n",
            "1441\n",
            "1443\n",
            "1445\n",
            "1447\n",
            "1449\n",
            "1451\n",
            "1453\n",
            "1455\n",
            "1457\n",
            "1459\n",
            "1461\n",
            "1463\n",
            "1465\n",
            "1467\n",
            "1469\n",
            "1471\n",
            "1473\n",
            "1475\n",
            "1477\n",
            "1479\n",
            "1481\n",
            "1483\n",
            "1485\n",
            "1487\n",
            "1489\n",
            "1491\n",
            "1493\n",
            "1495\n",
            "1497\n",
            "1499\n"
          ]
        }
      ]
    },
    {
      "cell_type": "markdown",
      "source": [
        "# 3. Elabore um programa em Python que calcule e escreva a soma de 10 números lidos."
      ],
      "metadata": {
        "id": "-P0gOsuqoI99"
      }
    },
    {
      "cell_type": "code",
      "source": [
        "# Algoritmo 3\n",
        "\n",
        "# Variáveis\n",
        "\n",
        "x = 0\n",
        "soma = 0.0\n",
        "\n",
        "# Inicio\n",
        "\n",
        "for x in range(10):\n",
        "  numero = float(input(f'Escreva o {x+1}° número:'))\n",
        "  soma += numero\n",
        "  x += 1\n",
        "  if x == 10:\n",
        "    print('A soma dos 10 números é {}'.format(soma))\n",
        "\n",
        "# Fim."
      ],
      "metadata": {
        "id": "28ui8Un1oOyU",
        "colab": {
          "base_uri": "https://localhost:8080/"
        },
        "outputId": "d7719c33-e9aa-45aa-812c-0f1e79c1bb67"
      },
      "execution_count": null,
      "outputs": [
        {
          "output_type": "stream",
          "name": "stdout",
          "text": [
            "Escreva o 1° número:10\n",
            "Escreva o 2° número:10\n",
            "Escreva o 3° número:10\n",
            "Escreva o 4° número:10\n",
            "Escreva o 5° número:10\n",
            "Escreva o 6° número:10\n",
            "Escreva o 7° número:10\n",
            "Escreva o 8° número:10\n",
            "Escreva o 9° número:10\n",
            "Escreva o 10° número:10\n",
            "A soma dos 10 números é 100.0\n"
          ]
        }
      ]
    },
    {
      "cell_type": "markdown",
      "source": [
        "# 4. Faça um programa em Python que leia a nota de 10 alunos de uma turma. Ao final, deve ser escrita a média geral da turma."
      ],
      "metadata": {
        "id": "fiNGJe1orq2W"
      }
    },
    {
      "cell_type": "code",
      "source": [
        "# Algoritmo 4\n",
        "\n",
        "# Variáveis\n",
        "\n",
        "media = 0.0\n",
        "soma = 0.0\n",
        "x= 0\n",
        "\n",
        "# Inicio\n",
        "\n",
        "while x < 10:\n",
        "  nota = float(input('escreva a {}° nota do aluno:'.format(x+1)))\n",
        "  soma += nota\n",
        "  media = soma / 10\n",
        "  x += 1\n",
        "  if x == 10:\n",
        "    print(f'A média dos 10 alunos da turma é {round(media, 2)}')\n",
        "\n",
        "\n",
        "# Fim."
      ],
      "metadata": {
        "colab": {
          "base_uri": "https://localhost:8080/"
        },
        "id": "GIiErJ5t2kAL",
        "outputId": "28732c39-5d3d-4d3b-e745-6373995cf25d"
      },
      "execution_count": 5,
      "outputs": [
        {
          "output_type": "stream",
          "name": "stdout",
          "text": [
            "escreva a 1° nota do aluno:5\n",
            "escreva a 2° nota do aluno:6\n",
            "escreva a 3° nota do aluno:8\n",
            "escreva a 4° nota do aluno:10\n",
            "escreva a 5° nota do aluno:10\n",
            "escreva a 6° nota do aluno:9\n",
            "escreva a 7° nota do aluno:5\n",
            "escreva a 8° nota do aluno:6\n",
            "escreva a 9° nota do aluno:3\n",
            "escreva a 10° nota do aluno:4\n",
            "A média dos 10 alunos da turma é 6.6\n"
          ]
        }
      ]
    },
    {
      "cell_type": "markdown",
      "source": [
        "# 5. Faça um programa em Python que leia 5 números. Para cada número fornecido, escreva se ele é NULO, NEGATIVO ou POSITIVO."
      ],
      "metadata": {
        "id": "G49CQq4JZIsS"
      }
    },
    {
      "cell_type": "code",
      "source": [
        "# Algoritmo 5\n",
        "\n",
        "# Variáveis\n",
        "\n",
        "i = 0\n",
        "# Inicio\n",
        "\n",
        "while i in range(5):\n",
        "  n = float(input('Escreva um número inteiro:'))\n",
        "  i += 1\n",
        "  if n > 0:\n",
        "    print('Número digitado é POSITIVO')\n",
        "  elif n < 0:\n",
        "    print('O número é NEGATIVO')\n",
        "  else:\n",
        "    print('O número é NULO')\n",
        "\n",
        "# Fim."
      ],
      "metadata": {
        "colab": {
          "base_uri": "https://localhost:8080/"
        },
        "id": "IJ4TMlZ9Zeyy",
        "outputId": "20ba97a4-fe93-4f4f-db13-5fd00f9c7e30"
      },
      "execution_count": null,
      "outputs": [
        {
          "output_type": "stream",
          "name": "stdout",
          "text": [
            "Escreva um número inteiro:5\n",
            "Número digitado é POSITIVO\n",
            "Escreva um número inteiro:-4\n",
            "O número é NEGATIVO\n",
            "Escreva um número inteiro:0\n",
            "O número é NULO\n",
            "Escreva um número inteiro:0\n",
            "O número é NULO\n",
            "Escreva um número inteiro:-5\n",
            "O número é NEGATIVO\n"
          ]
        }
      ]
    },
    {
      "cell_type": "markdown",
      "source": [
        "# 6. Ler dois valores inteiros e escrever os números em sequência do menor até maior valor."
      ],
      "metadata": {
        "id": "d7uBsfvNay4K"
      }
    },
    {
      "cell_type": "code",
      "source": [
        "# Algoritmo 6\n",
        "\n",
        "# Variáveis\n",
        "\n",
        "i = 0\n",
        "\n",
        "# Inicio\n",
        "\n",
        "n1 = int(input('Escreva um numero:'))\n",
        "n2 = int(input('Escreva outro:'))\n",
        "if n1 > n2:\n",
        "  print(\"A sequência do menor ao maior é:\", n2,\" e \",n1)\n",
        "elif n1 < n2:\n",
        "  print(\"A sequência do menor ao maior é:\", n1,' e ',n2)\n",
        "else:\n",
        "  print(\"Os números são iguais\")\n",
        "\n",
        "# Fim."
      ],
      "metadata": {
        "colab": {
          "base_uri": "https://localhost:8080/"
        },
        "id": "4WZAcuSGa2OJ",
        "outputId": "0f67a9f3-da47-4538-b67a-0a87acce35c1"
      },
      "execution_count": null,
      "outputs": [
        {
          "output_type": "stream",
          "name": "stdout",
          "text": [
            "Escreva um numero:5\n",
            "Escreva outro:5\n",
            "Os números são iguais\n"
          ]
        }
      ]
    },
    {
      "cell_type": "markdown",
      "source": [
        "# 7. Faça um programa em Python que escreva os números pares entre 100 e 200."
      ],
      "metadata": {
        "id": "zpPeoDMOc06y"
      }
    },
    {
      "cell_type": "code",
      "source": [
        "# Algoritmo 7\n",
        "\n",
        "# Variáveis\n",
        "\n",
        "i = 0\n",
        "\n",
        "# Inicio\n",
        "\n",
        "for i in range(100, 200):\n",
        "  if i % 2 == 0:\n",
        "    print(i)\n",
        "\n",
        "# Fim."
      ],
      "metadata": {
        "colab": {
          "base_uri": "https://localhost:8080/"
        },
        "id": "H1m-uqb_c4Ch",
        "outputId": "dfad4416-6730-487b-90be-bafe74be8051"
      },
      "execution_count": null,
      "outputs": [
        {
          "output_type": "stream",
          "name": "stdout",
          "text": [
            "100\n",
            "102\n",
            "104\n",
            "106\n",
            "108\n",
            "110\n",
            "112\n",
            "114\n",
            "116\n",
            "118\n",
            "120\n",
            "122\n",
            "124\n",
            "126\n",
            "128\n",
            "130\n",
            "132\n",
            "134\n",
            "136\n",
            "138\n",
            "140\n",
            "142\n",
            "144\n",
            "146\n",
            "148\n",
            "150\n",
            "152\n",
            "154\n",
            "156\n",
            "158\n",
            "160\n",
            "162\n",
            "164\n",
            "166\n",
            "168\n",
            "170\n",
            "172\n",
            "174\n",
            "176\n",
            "178\n",
            "180\n",
            "182\n",
            "184\n",
            "186\n",
            "188\n",
            "190\n",
            "192\n",
            "194\n",
            "196\n",
            "198\n"
          ]
        }
      ]
    },
    {
      "cell_type": "markdown",
      "source": [
        "# 8. Escrever um programa em Python que leia um valor para n, inteiro e positivo, e escreva a tabuada de n. Com os respectivos valores."
      ],
      "metadata": {
        "id": "ghIUPNX24Ww2"
      }
    },
    {
      "cell_type": "code",
      "source": [
        "# Algoritmo 8\n",
        "\n",
        "# Variáveis\n",
        "\n",
        "n = 0\n",
        "contador = 0\n",
        "tabuada = 0\n",
        "\n",
        "# Inicio\n",
        "\n",
        "n = int(input('escreva um número:'))\n",
        "for tabuada in range(1, 11):\n",
        "  contador = tabuada * n\n",
        "  print(tabuada,'x', n, '=', contador)\n",
        "\n",
        "# Fim."
      ],
      "metadata": {
        "colab": {
          "base_uri": "https://localhost:8080/"
        },
        "id": "JWp_GfOQ41ws",
        "outputId": "9e8f9bcb-f7d1-4764-f7ca-cc61a7e347be"
      },
      "execution_count": null,
      "outputs": [
        {
          "output_type": "stream",
          "name": "stdout",
          "text": [
            "escreva um número:5\n",
            "1 x 5 = 5\n",
            "2 x 5 = 10\n",
            "3 x 5 = 15\n",
            "4 x 5 = 20\n",
            "5 x 5 = 25\n",
            "6 x 5 = 30\n",
            "7 x 5 = 35\n",
            "8 x 5 = 40\n",
            "9 x 5 = 45\n",
            "10 x 5 = 50\n"
          ]
        }
      ]
    },
    {
      "cell_type": "markdown",
      "source": [
        "# 9. Escrever um programa em Python que gera os números de 1000 a 1999 e escreve aqueles que divididos por 11 dão um resto igual a 5."
      ],
      "metadata": {
        "id": "pDf8inFX6uee"
      }
    },
    {
      "cell_type": "code",
      "source": [
        "# Algoritmo 9\n",
        "\n",
        "# Variáveis\n",
        "\n",
        "x = 1\n",
        "\n",
        "# Inicio\n",
        "\n",
        "for x in range(1000, 1999):\n",
        "  if x % 11 == 5:\n",
        "    print(x)\n",
        "\n",
        "# Fim."
      ],
      "metadata": {
        "colab": {
          "base_uri": "https://localhost:8080/"
        },
        "id": "uyfKR0wI6xxd",
        "outputId": "5f15b546-282c-47f0-bead-df0e5c07a997"
      },
      "execution_count": null,
      "outputs": [
        {
          "output_type": "stream",
          "name": "stdout",
          "text": [
            "1006\n",
            "1017\n",
            "1028\n",
            "1039\n",
            "1050\n",
            "1061\n",
            "1072\n",
            "1083\n",
            "1094\n",
            "1105\n",
            "1116\n",
            "1127\n",
            "1138\n",
            "1149\n",
            "1160\n",
            "1171\n",
            "1182\n",
            "1193\n",
            "1204\n",
            "1215\n",
            "1226\n",
            "1237\n",
            "1248\n",
            "1259\n",
            "1270\n",
            "1281\n",
            "1292\n",
            "1303\n",
            "1314\n",
            "1325\n",
            "1336\n",
            "1347\n",
            "1358\n",
            "1369\n",
            "1380\n",
            "1391\n",
            "1402\n",
            "1413\n",
            "1424\n",
            "1435\n",
            "1446\n",
            "1457\n",
            "1468\n",
            "1479\n",
            "1490\n",
            "1501\n",
            "1512\n",
            "1523\n",
            "1534\n",
            "1545\n",
            "1556\n",
            "1567\n",
            "1578\n",
            "1589\n",
            "1600\n",
            "1611\n",
            "1622\n",
            "1633\n",
            "1644\n",
            "1655\n",
            "1666\n",
            "1677\n",
            "1688\n",
            "1699\n",
            "1710\n",
            "1721\n",
            "1732\n",
            "1743\n",
            "1754\n",
            "1765\n",
            "1776\n",
            "1787\n",
            "1798\n",
            "1809\n",
            "1820\n",
            "1831\n",
            "1842\n",
            "1853\n",
            "1864\n",
            "1875\n",
            "1886\n",
            "1897\n",
            "1908\n",
            "1919\n",
            "1930\n",
            "1941\n",
            "1952\n",
            "1963\n",
            "1974\n",
            "1985\n",
            "1996\n"
          ]
        }
      ]
    },
    {
      "cell_type": "markdown",
      "source": [
        "# 10. Faça um programa em Python que leia um número qualquer (N), e realize a soma dos números de 1 até N. Ao final, deve-se escrever o resultado.\n",
        "\n"
      ],
      "metadata": {
        "id": "FAcCuoxR74KX"
      }
    },
    {
      "cell_type": "code",
      "source": [
        "# Algoritmo\n",
        "\n",
        "# Variáveis\n",
        "\n",
        "n = 0\n",
        "x = 0\n",
        "acum = 0\n",
        "cont = 0\n",
        "\n",
        "# Incio\n",
        "\n",
        "n = int(input('Escreva um número:'))\n",
        "for x in range(n + 1):\n",
        "  acum = acum + x\n",
        "print(acum)\n",
        "\n",
        "# Fim."
      ],
      "metadata": {
        "colab": {
          "base_uri": "https://localhost:8080/"
        },
        "id": "0L_3DlfT79oW",
        "outputId": "490d86d0-5714-4cd0-e233-b13098bd584d"
      },
      "execution_count": null,
      "outputs": [
        {
          "output_type": "stream",
          "name": "stdout",
          "text": [
            "Escreva um número:10\n",
            "55\n"
          ]
        }
      ]
    },
    {
      "cell_type": "markdown",
      "source": [
        "# 11. Faça um programa em Python para ler 10 valores inteiros. Para cada valor fornecido escreva uma mensagem que indica se cada valor fornecido é PAR ou ÍMPAR."
      ],
      "metadata": {
        "id": "5Jl7wozX9Ub_"
      }
    },
    {
      "cell_type": "code",
      "source": [
        "# Algoritmo 11\n",
        "\n",
        "# Variáveis\n",
        "n = 0\n",
        "x = 0\n",
        "# Inicio\n",
        "for x in range(1, 11):\n",
        "  n = int(input('Escreva um número:'))\n",
        "  if n % 2 == 0:\n",
        "    print('O número é par')\n",
        "  else:\n",
        "    print('O número é ímpar')\n",
        "\n",
        "\n",
        "\n",
        "# Fim."
      ],
      "metadata": {
        "colab": {
          "base_uri": "https://localhost:8080/"
        },
        "id": "UmhivLjI9bLQ",
        "outputId": "9382d21d-a9fb-4cd3-8ab5-e5eaaa97d4de"
      },
      "execution_count": null,
      "outputs": [
        {
          "output_type": "stream",
          "name": "stdout",
          "text": [
            "Escreva um número:10\n",
            "O número é par\n",
            "Escreva um número:5\n",
            "O número é ímpar\n",
            "Escreva um número:7\n",
            "O número é ímpar\n",
            "Escreva um número:5\n",
            "O número é ímpar\n",
            "Escreva um número:0\n",
            "O número é par\n",
            "Escreva um número:10\n",
            "O número é par\n",
            "Escreva um número:2\n",
            "O número é par\n",
            "Escreva um número:5\n",
            "O número é ímpar\n",
            "Escreva um número:10\n",
            "O número é par\n",
            "Escreva um número:5\n",
            "O número é ímpar\n"
          ]
        }
      ]
    },
    {
      "cell_type": "markdown",
      "source": [
        "# 12. Faça um programa em Python que leia a idade de 10 alunos, calcule e escreva a média de idade destes."
      ],
      "metadata": {
        "id": "q9lA9PP6-wnB"
      }
    },
    {
      "cell_type": "code",
      "source": [
        "# Algoritmo 12\n",
        "\n",
        "# Variáveis\n",
        "\n",
        "i = 0\n",
        "media = 0.0\n",
        "soma = 0\n",
        "\n",
        "# Inicio\n",
        "\n",
        "while i < 10:\n",
        "  idade = float(input(f'{i +1}) Escreva sua idade:'))\n",
        "  i += 1\n",
        "  soma += idade\n",
        "  if i == 10:\n",
        "    media = soma /10\n",
        "    print('A média das idades é: {}'.format(round(media, 2)))\n",
        "\n",
        "# Fim."
      ],
      "metadata": {
        "colab": {
          "base_uri": "https://localhost:8080/"
        },
        "id": "pEq0z1Y_-8uY",
        "outputId": "a019a719-f78f-4b20-8752-34ad85d97797"
      },
      "execution_count": 6,
      "outputs": [
        {
          "output_type": "stream",
          "name": "stdout",
          "text": [
            "1) Escreva sua idade:10\n",
            "2) Escreva sua idade:11\n",
            "3) Escreva sua idade:13\n",
            "4) Escreva sua idade:15\n",
            "5) Escreva sua idade:9\n",
            "6) Escreva sua idade:8\n",
            "7) Escreva sua idade:12\n",
            "8) Escreva sua idade:11\n",
            "9) Escreva sua idade:10\n",
            "10) Escreva sua idade:13\n",
            "A média das idades é: 11.2\n"
          ]
        }
      ]
    },
    {
      "cell_type": "markdown",
      "source": [
        "# 13. Faça um algoritmo em Python que leia dois valores inteiros e escreva se eles estão em ordem crescente, decrescente ou são iguais, após isso escreva todos os valores do menor ao maior."
      ],
      "metadata": {
        "id": "zmAzh0UqBeCK"
      }
    },
    {
      "cell_type": "code",
      "source": [
        "# Algoritmo 13\n",
        "\n",
        "# Variáveis\n",
        "\n",
        "# Inicio\n",
        "\n",
        "n1 = int(input('Escreva um número inteiro:'))\n",
        "n2 = int(input('Escreva outro:'))\n",
        "if n1 > n2:\n",
        "  print('Os números estão digitados em ordem DECRESCENTE!')\n",
        "  print('A ordem do menor ao maior é:', n2, 'e', n1)\n",
        "elif n1 < n2:\n",
        "  print('Os números estão digitados em ordem CRESCENTE!')\n",
        "  print('Sendo assim, a ordem do menor ao maior é:', n1, 'e', n2)\n",
        "else:\n",
        "  print('Os números são IGUAIS!')\n",
        "  print('A ordem do menor para o maior é indiferente, sendo:',n1, 'e', n2)\n",
        "\n",
        "# Fim."
      ],
      "metadata": {
        "id": "fUfLz3GIBhtp",
        "colab": {
          "base_uri": "https://localhost:8080/"
        },
        "outputId": "f10e727d-8d00-46fb-9107-aaf036a62858"
      },
      "execution_count": null,
      "outputs": [
        {
          "output_type": "stream",
          "name": "stdout",
          "text": [
            "Escreva um número inteiro:5\n",
            "Escreva outro:5\n",
            "Os números são IGUAIS!\n",
            "A ordem do menor para o maior é indiferente, sendo: 5 e 5\n"
          ]
        }
      ]
    },
    {
      "cell_type": "markdown",
      "source": [
        "# 14. Escrever um programa em Python que lê 10 valores para n, um de cada vez, todos inteiros e positivos, e para cada n lido, escreva a tabuada de 1 até n de n."
      ],
      "metadata": {
        "id": "690jawNUgiUr"
      }
    },
    {
      "cell_type": "code",
      "source": [
        "# Algoritmo 14\n",
        "\n",
        "# Variáveis\n",
        "\n",
        "i = 0\n",
        "x = 0\n",
        "tab = 0\n",
        "n = 1\n",
        "\n",
        "# Inicio\n",
        "\n",
        "\n",
        "\n",
        "if n > 0:\n",
        "  while x < 10:\n",
        "    n = int(input('Escreva um número inteiro e positivo:'))\n",
        "    x += 1\n",
        "    for i in range(0, n):\n",
        "      i += 1\n",
        "      tab = n * i\n",
        "      print(n, 'x ', i,'=', tab)\n",
        "else:\n",
        "  print('Valor Inválido!')\n",
        "# Fim."
      ],
      "metadata": {
        "colab": {
          "base_uri": "https://localhost:8080/"
        },
        "id": "DPM1Td1Igm7i",
        "outputId": "e2c27097-f39f-4c4f-c4a4-1134562b7ad9"
      },
      "execution_count": 38,
      "outputs": [
        {
          "output_type": "stream",
          "name": "stdout",
          "text": [
            "Escreva um número inteiro e positivo:1\n",
            "1 x  1 = 1\n",
            "Escreva um número inteiro e positivo:2\n",
            "2 x  1 = 2\n",
            "2 x  2 = 4\n",
            "Escreva um número inteiro e positivo:3\n",
            "3 x  1 = 3\n",
            "3 x  2 = 6\n",
            "3 x  3 = 9\n",
            "Escreva um número inteiro e positivo:4\n",
            "4 x  1 = 4\n",
            "4 x  2 = 8\n",
            "4 x  3 = 12\n",
            "4 x  4 = 16\n",
            "Escreva um número inteiro e positivo:5\n",
            "5 x  1 = 5\n",
            "5 x  2 = 10\n",
            "5 x  3 = 15\n",
            "5 x  4 = 20\n",
            "5 x  5 = 25\n",
            "Escreva um número inteiro e positivo:6\n",
            "6 x  1 = 6\n",
            "6 x  2 = 12\n",
            "6 x  3 = 18\n",
            "6 x  4 = 24\n",
            "6 x  5 = 30\n",
            "6 x  6 = 36\n",
            "Escreva um número inteiro e positivo:7\n",
            "7 x  1 = 7\n",
            "7 x  2 = 14\n",
            "7 x  3 = 21\n",
            "7 x  4 = 28\n",
            "7 x  5 = 35\n",
            "7 x  6 = 42\n",
            "7 x  7 = 49\n",
            "Escreva um número inteiro e positivo:8\n",
            "8 x  1 = 8\n",
            "8 x  2 = 16\n",
            "8 x  3 = 24\n",
            "8 x  4 = 32\n",
            "8 x  5 = 40\n",
            "8 x  6 = 48\n",
            "8 x  7 = 56\n",
            "8 x  8 = 64\n",
            "Escreva um número inteiro e positivo:9\n",
            "9 x  1 = 9\n",
            "9 x  2 = 18\n",
            "9 x  3 = 27\n",
            "9 x  4 = 36\n",
            "9 x  5 = 45\n",
            "9 x  6 = 54\n",
            "9 x  7 = 63\n",
            "9 x  8 = 72\n",
            "9 x  9 = 81\n",
            "Escreva um número inteiro e positivo:10\n",
            "10 x  1 = 10\n",
            "10 x  2 = 20\n",
            "10 x  3 = 30\n",
            "10 x  4 = 40\n",
            "10 x  5 = 50\n",
            "10 x  6 = 60\n",
            "10 x  7 = 70\n",
            "10 x  8 = 80\n",
            "10 x  9 = 90\n",
            "10 x  10 = 100\n"
          ]
        }
      ]
    }
  ]
}