{
  "nbformat": 4,
  "nbformat_minor": 0,
  "metadata": {
    "colab": {
      "provenance": [],
      "authorship_tag": "ABX9TyP6stuolJV69pRT5pldJngi"
    },
    "kernelspec": {
      "name": "python3",
      "display_name": "Python 3"
    },
    "language_info": {
      "name": "python"
    }
  },
  "cells": [
    {
      "cell_type": "markdown",
      "source": [
        "# Exercício 1 – Array de 5 Nomes\n",
        "## Objetivo:\n",
        "Ler 5 nomes de pessoas quaisquer.\n",
        "Exibir todos os nomes do primeiro ao último.\n",
        "Exemplo de entrada/saída:\n",
        "\n",
        "Entrada:\n",
        "\n",
        "Rogério\n",
        "Amanda\n",
        "Luiz\n",
        "Juliana\n",
        "Carlos\n",
        "\n",
        "Saída:\n",
        "\n",
        "Rogério\n",
        "Amanda\n",
        "Luiz\n",
        "Juliana\n",
        "Carlos"
      ],
      "metadata": {
        "id": "tHky26yfWXYy"
      }
    },
    {
      "cell_type": "code",
      "source": [
        "# Algoritmo 1\n",
        "\n",
        "# Inicio\n",
        "\n",
        "x = 0\n",
        "lista = []\n",
        "\n",
        "for i in range(5):\n",
        "  nome = str(input(f'Escreva o nome da {i + 1}° pessoa:'))\n",
        "  i += 1\n",
        "  lista.append(nome)\n",
        "\n",
        "for x in range(i):\n",
        "  print(lista[x])\n",
        "  x += 1\n",
        "\n",
        "# Fim."
      ],
      "metadata": {
        "colab": {
          "base_uri": "https://localhost:8080/"
        },
        "id": "d2GUiK03Wqfi",
        "outputId": "8642a49d-43fb-45aa-c5f2-81d3190112a7"
      },
      "execution_count": null,
      "outputs": [
        {
          "output_type": "stream",
          "name": "stdout",
          "text": [
            "Escreva o nome da 1° pessoa:Augusto\n",
            "Escreva o nome da 2° pessoa:Maria\n",
            "Escreva o nome da 3° pessoa:Joa\n",
            "Escreva o nome da 4° pessoa:Carlos\n",
            "Escreva o nome da 5° pessoa:Guilherme\n",
            "Augusto\n",
            "Maria\n",
            "Joa\n",
            "Carlos\n",
            "Guilherme\n"
          ]
        }
      ]
    },
    {
      "cell_type": "markdown",
      "source": [
        "# Exercício 2 – Lista com Quantidade Informada\n",
        " ## Objetivo:\n",
        "### Perguntar ao usuário quantos nomes ele irá informar. Ler os nomes e exibi-los na mesma ordem.\n",
        "\n",
        "### Exemplo de entrada/saída:\n",
        "\n",
        "Entrada:\n",
        "\n",
        "7\n",
        "\n",
        "Rogério\n",
        "Amanda\n",
        "Luiz\n",
        "Juliana\n",
        "Carlos\n",
        "Ana\n",
        "Armando\n",
        "\n",
        "Saída:\n",
        "\n",
        "Rogério\n",
        "Amanda\n",
        "Luiz\n",
        "Juliana\n",
        "Carlos\n",
        "Ana\n",
        "Armando"
      ],
      "metadata": {
        "id": "z8Pec_hSfE7S"
      }
    },
    {
      "cell_type": "code",
      "source": [
        "# Algoritmo 2\n",
        "\n",
        "# Inicio\n",
        "\n",
        "lista = []\n",
        "i = 0\n",
        "x = 0\n",
        "y = 0\n",
        "z = 0\n",
        "\n",
        "\n",
        "qtd = int(input('escreva quantos nome irá escrever: '))\n",
        "for i in range(qtd):\n",
        "  data = input(f\"Digite o {i+1}° nome: \")\n",
        "  lista.append(data)\n",
        "for data in lista:\n",
        "  print(data)\n",
        "\n",
        "\n",
        "# Fim."
      ],
      "metadata": {
        "colab": {
          "base_uri": "https://localhost:8080/"
        },
        "id": "Uf1MzNSrfRM6",
        "outputId": "a4ce50dd-93e8-4886-81bb-9963168a0bbb"
      },
      "execution_count": null,
      "outputs": [
        {
          "output_type": "stream",
          "name": "stdout",
          "text": [
            "escreva quantos nome irá escrever: 2\n",
            "Digite o 1° nome: Augusto\n",
            "Digite o 2° nome: Carlos\n",
            "Augusto\n",
            "Carlos\n"
          ]
        }
      ]
    },
    {
      "cell_type": "markdown",
      "source": [],
      "metadata": {
        "id": "6Q3IeJcGexHy"
      }
    },
    {
      "cell_type": "markdown",
      "source": [
        "# Exercício 3 – Times de Futebol\n",
        "## Objetivo:\n",
        "\n",
        "Ler uma lista com nomes de times (-quantidade definida pelo usuário).\n",
        "Exibir: o primeiro time, o time do meio e o último time.\n",
        "\n",
        "Exemplo 1: (7 times)\n",
        "Entrada:\n",
        "Grêmio, Inter, Palmeiras, Fluminense, Botafogo, Aimoré, Flamengo\n",
        "\n",
        "Saída:\n",
        "Grêmio (primeiro)\n",
        "\n",
        "Fluminense (meio)\n",
        "\n",
        "Flamengo (último)\n",
        "\n",
        "\n",
        "Exemplo 2: (8 times)\n",
        "\n",
        "Entrada:\n",
        "Grêmio, Inter, Palmeiras, Fluminense, Botafogo, Aimoré, Flamengo, Corinthians\n",
        "\n",
        "Saída:\n",
        "Grêmio (primeiro)\n",
        "\n",
        "Fluminense/Botafogo (meio)\n",
        "\n",
        "Corinthians (último)\n"
      ],
      "metadata": {
        "id": "rF8Hy4avvpq9"
      }
    },
    {
      "cell_type": "code",
      "execution_count": null,
      "metadata": {
        "id": "VfQXKMS2objn",
        "colab": {
          "base_uri": "https://localhost:8080/"
        },
        "outputId": "5a95af78-189c-4084-cbf9-e1372f8e5053"
      },
      "outputs": [
        {
          "output_type": "stream",
          "name": "stdout",
          "text": [
            "Escreva a quantidade de times que você irá adicionar: 4\n",
            "Escreva o nome do 1° time: GREMIO\n",
            "Escreva o nome do 2° time: INTER\n",
            "Escreva o nome do 3° time: VASCO\n",
            "Escreva o nome do 4° time: PALMEIRAS\n",
            "GREMIO (Primeiro)\n",
            "VASCO / INTER (MEIO)\n",
            "PALMEIRAS (ÚLTIMO)\n"
          ]
        }
      ],
      "source": [
        "# Algoritmo 3\n",
        "\n",
        "# Inicio\n",
        "\n",
        "times = []\n",
        "x = 0\n",
        "i = 0\n",
        "\n",
        "x = int(input('Escreva a quantidade de times que você irá adicionar: '))\n",
        "while x < 3:\n",
        "  print('Escreva 3 ou mais!')\n",
        "  x = int(input('Escreva a quantidade de times que você irá adicionar: '))\n",
        "\n",
        "for i in range(x):\n",
        "  nome = str(input(f'Escreva o nome do {i + 1}° time: '))\n",
        "  times.append(nome)\n",
        "\n",
        "meio = x // 2\n",
        "\n",
        "print(times[0],'(Primeiro)')\n",
        "\n",
        "if x % 2 == 0:\n",
        "  print(times[meio],'/', times[meio - 1],'(MEIO)')\n",
        "else:\n",
        "  print(times[meio],'(MEIO)')\n",
        "\n",
        "print(times[-1],'(ÚLTIMO)')\n",
        "\n",
        "\n",
        "# fim."
      ]
    },
    {
      "cell_type": "markdown",
      "source": [
        "# Exercício 4 – Exibir Números (Ordem Normal)\n",
        "\n",
        "## Objetivo:\n",
        "\n",
        "- Ler uma lista de números quaisquer.\n",
        "- Exibir os números do primeiro ao último.\n",
        "\n",
        "Exemplo de entrada/saída:\n",
        "\n",
        "Entrada:\n",
        "\n",
        "7\n",
        "\n",
        "4\n",
        "\n",
        "7\n",
        "\n",
        "2\n",
        "\n",
        "1\n",
        "\n",
        "Saída:\n",
        "\n",
        "7\n",
        "\n",
        "4\n",
        "\n",
        "7\n",
        "\n",
        "2\n",
        "\n",
        "1"
      ],
      "metadata": {
        "id": "WD7JAEfF2f1Y"
      }
    },
    {
      "cell_type": "code",
      "source": [
        "# Algoritmo 4\n",
        "\n",
        "# Inicio\n",
        "\n",
        "numeros = []\n",
        "\n",
        "while True:\n",
        "  entrada = input('Digite um número ou sair p/ parar:')\n",
        "  if entrada == 'sair':\n",
        "    for numero in numeros:\n",
        "      print(numero)\n",
        "    break\n",
        "  elif entrada.isnumeric():\n",
        "    numeros.append(float(entrada))\n",
        "  else:\n",
        "    print('Inválido')\n",
        "\n",
        "# Fim."
      ],
      "metadata": {
        "colab": {
          "base_uri": "https://localhost:8080/"
        },
        "id": "Ab6hyS282tBy",
        "outputId": "672f8487-a2c0-4388-c4b9-afeed0b5cac2"
      },
      "execution_count": null,
      "outputs": [
        {
          "output_type": "stream",
          "name": "stdout",
          "text": [
            "Digite um número ou sair p/ parar:1\n",
            "Digite um número ou sair p/ parar:2\n",
            "Digite um número ou sair p/ parar:3\n",
            "Digite um número ou sair p/ parar:4\n",
            "Digite um número ou sair p/ parar:5\n",
            "Digite um número ou sair p/ parar:sair\n",
            "1.0\n",
            "2.0\n",
            "3.0\n",
            "4.0\n",
            "5.0\n"
          ]
        }
      ]
    },
    {
      "cell_type": "markdown",
      "source": [
        "# Exercício 5 – Exibir Números (Ordem Inversa)\n",
        "##Objetivo:\n",
        "\n",
        "Ler uma lista de números.\n",
        "Exibir os números do último para o primeiro.\n",
        "Exemplo de entrada/saída:\n",
        "\n",
        "\n",
        "Entrada:\n",
        "\n",
        "7\n",
        "\n",
        "4\n",
        "\n",
        "7\n",
        "\n",
        "2\n",
        "\n",
        "1\n",
        "\n",
        "8\n",
        "\n",
        "9\n",
        "\n",
        "4\n",
        "\n",
        "11\n",
        "\n",
        "Saída:\n",
        "\n",
        "\n",
        "11\n",
        "\n",
        "4\n",
        "\n",
        "9\n",
        "\n",
        "8\n",
        "\n",
        "1\n",
        "\n",
        "2\n",
        "\n",
        "7\n",
        "\n",
        "4\n",
        "\n",
        "7"
      ],
      "metadata": {
        "id": "1Kk6UuzG2Afm"
      }
    },
    {
      "cell_type": "code",
      "source": [
        "# Algoritmo\n",
        "\n",
        "# Inicio\n",
        "\n",
        "numero = 0\n",
        "numeros = []\n",
        "x = 0\n",
        "\n",
        "while x == 0:\n",
        "  numero = (input('Escreva um número ou (sair) para encerrar: '))\n",
        "  if numero.isnumeric():\n",
        "    numeros.append(numero)\n",
        "  elif numero == 'sair':\n",
        "    numeros = numeros[::-1]\n",
        "    for numero in numeros:\n",
        "      print(numero)\n",
        "      x += 1\n",
        "\n",
        "\n",
        "\n",
        "\n",
        "\n",
        "\n",
        "# Fim."
      ],
      "metadata": {
        "colab": {
          "base_uri": "https://localhost:8080/"
        },
        "id": "NPKz847z2QFP",
        "outputId": "f9375c6a-fa3a-4a53-b0bf-677a0dac3f39"
      },
      "execution_count": null,
      "outputs": [
        {
          "output_type": "stream",
          "name": "stdout",
          "text": [
            "Escreva um número ou (sair) para encerrar: 1\n",
            "Escreva um número ou (sair) para encerrar: 2\n",
            "Escreva um número ou (sair) para encerrar: 3\n",
            "Escreva um número ou (sair) para encerrar: 4\n",
            "Escreva um número ou (sair) para encerrar: 5\n",
            "Escreva um número ou (sair) para encerrar: 6\n",
            "Escreva um número ou (sair) para encerrar: sair\n",
            "6\n",
            "5\n",
            "4\n",
            "3\n",
            "2\n",
            "1\n"
          ]
        }
      ]
    },
    {
      "cell_type": "markdown",
      "source": [
        "# Exercício 6 – Exibir Números Pulando de 2 em 2\n",
        "##Objetivo:\n",
        "### Ler uma lista de números. Exibir os números do primeiro ao último, pulando de dois em dois.\n",
        "\n",
        "Exemplo 1:\n",
        "Entrada:\n",
        "\n",
        "8\n",
        "\n",
        "8\n",
        "\n",
        "3\n",
        "\n",
        "7\n",
        "\n",
        "0\n",
        "\n",
        "2\n",
        "\n",
        "9\n",
        "\n",
        "5\n",
        "\n",
        "2\n",
        "\n",
        "\n",
        "Saída:\n",
        "\n",
        "8\n",
        "\n",
        "7\n",
        "\n",
        "2\n",
        "\n",
        "5\n",
        "\n",
        "Exemplo 2:\n",
        "Entrada:\n",
        "\n",
        "9\n",
        "\n",
        "8\n",
        "\n",
        "3\n",
        "\n",
        "7\n",
        "\n",
        "0\n",
        "\n",
        "2\n",
        "\n",
        "9\n",
        "\n",
        "5\n",
        "\n",
        "2\n",
        "\n",
        "8\n",
        "\n",
        "Saída:\n",
        "\n",
        "8\n",
        "\n",
        "7\n",
        "\n",
        "2\n",
        "\n",
        "5\n",
        "\n",
        "8"
      ],
      "metadata": {
        "id": "mdetex5AifXF"
      }
    },
    {
      "cell_type": "code",
      "source": [
        "# Algoritmo 5\n",
        "\n",
        "# Inicio\n",
        "\n",
        "lista = []\n",
        "lista2 = []\n",
        "r = 0\n",
        "x = 0\n",
        "contador = 0\n",
        "\n",
        "while r != 'sair':\n",
        "  r = input('Digite um numero ou (sair) para encerrar:')\n",
        "  if r.isnumeric():\n",
        "    lista.append(r)\n",
        "    len(lista)\n",
        "    if len(lista) % 2 == 0:\n",
        "      lista2.append(r)\n",
        "      contador += 1\n",
        "  elif r == 'sair':\n",
        "    for x in range(contador):\n",
        "      print(lista2[x])\n",
        "\n",
        "\n",
        "# Fim."
      ],
      "metadata": {
        "id": "fg2VKtg49mr3",
        "colab": {
          "base_uri": "https://localhost:8080/"
        },
        "outputId": "55837f9f-5b09-4203-e840-9865bd14a1a4"
      },
      "execution_count": null,
      "outputs": [
        {
          "output_type": "stream",
          "name": "stdout",
          "text": [
            "Digite um numero ou (sair) para encerrar:1\n",
            "Digite um numero ou (sair) para encerrar:2\n",
            "Digite um numero ou (sair) para encerrar:3\n",
            "Digite um numero ou (sair) para encerrar:5\n",
            "Digite um numero ou (sair) para encerrar:6\n",
            "Digite um numero ou (sair) para encerrar:7\n",
            "Digite um numero ou (sair) para encerrar:8\n",
            "Digite um numero ou (sair) para encerrar:sair\n",
            "2\n",
            "5\n",
            "7\n"
          ]
        }
      ]
    },
    {
      "cell_type": "markdown",
      "source": [
        "# Exercício 7 – Exibir Números Inversos Pulando de 3 em 3\n",
        "Objetivo:\n",
        "Ler uma lista de números.\n",
        "Exibir os números do último para o primeiro, pulando de três em três.\n",
        "\n",
        "Exemplo 1:\n",
        "\n",
        "Entrada:\n",
        "8\n",
        "8\n",
        "3\n",
        "7\n",
        "0\n",
        "2\n",
        "9\n",
        "5\n",
        "2\n",
        "\n",
        "Saída:\n",
        "2\n",
        "2\n",
        "3\n",
        "\n",
        "Exemplo 2:\n",
        "\n",
        "Entrada:\n",
        "9\n",
        "8\n",
        "3\n",
        "7\n",
        "0\n",
        "2\n",
        "9\n",
        "5\n",
        "2\n",
        "8\n",
        "\n",
        "Saída:\n",
        "8\n",
        "9\n",
        "7"
      ],
      "metadata": {
        "id": "dTtrRskrnxTu"
      }
    },
    {
      "cell_type": "code",
      "source": [
        "# Algoritmo 7\n",
        "\n",
        "# Inicio\n",
        "\n",
        "resposta = 0\n",
        "lista = []\n",
        "x = 0\n",
        "\n",
        "while x == 0:\n",
        "  resposta = input('Digite um numero ou (sair) para encerrar:')\n",
        "  if resposta.isnumeric():\n",
        "    lista.append(resposta)\n",
        "\n",
        "  elif resposta == 'sair':\n",
        "    for resposta in lista[::-3]:\n",
        "     print(resposta)\n",
        "     x += 1\n",
        "\n",
        "\n",
        "\n",
        "\n",
        "# Fim."
      ],
      "metadata": {
        "colab": {
          "base_uri": "https://localhost:8080/"
        },
        "id": "ZMcs2wk5uNdf",
        "outputId": "060b9235-33bf-46c9-df70-9eb99fbf935f"
      },
      "execution_count": null,
      "outputs": [
        {
          "output_type": "stream",
          "name": "stdout",
          "text": [
            "Digite um numero ou (sair) para encerrar:9\n",
            "Digite um numero ou (sair) para encerrar:8\n",
            "Digite um numero ou (sair) para encerrar:3\n",
            "Digite um numero ou (sair) para encerrar:7\n",
            "Digite um numero ou (sair) para encerrar:0\n",
            "Digite um numero ou (sair) para encerrar:2\n",
            "Digite um numero ou (sair) para encerrar:9\n",
            "Digite um numero ou (sair) para encerrar:5\n",
            "Digite um numero ou (sair) para encerrar:2\n",
            "Digite um numero ou (sair) para encerrar:8\n",
            "Digite um numero ou (sair) para encerrar:sair\n",
            "8\n",
            "9\n",
            "7\n",
            "9\n"
          ]
        }
      ]
    },
    {
      "cell_type": "markdown",
      "source": [
        "# Exercício 8 – Exibir a Partir do Meio\n",
        "Objetivo:\n",
        "Ler uma lista de números (com quantidade definida pelo usuário).\n",
        "Exibir os números do meio ao primeiro e, depois, do meio ao último.\n",
        "Se a lista for par, não há um único valor central.\n",
        "\n",
        "Exemplo 1: (5 números)\n",
        "\n",
        "Entrada:\n",
        "\n",
        "8\n",
        "3\n",
        "7\n",
        "0\n",
        "2\n",
        "\n",
        "Saída:\n",
        "\n",
        "7\n",
        "3\n",
        "8\n",
        "7\n",
        "0\n",
        "2\n",
        "\n",
        "Exemplo 2: (6 números)\n",
        "\n",
        "Entrada:\n",
        "\n",
        "8\n",
        "3\n",
        "7\n",
        "0\n",
        "2\n",
        "9\n",
        "\n",
        "Saída:\n",
        "\n",
        "7\n",
        "3\n",
        "8\n",
        "0\n",
        "2\n",
        "9"
      ],
      "metadata": {
        "id": "Nvp6NOoH0utB"
      }
    },
    {
      "cell_type": "code",
      "source": [
        "# Algoritmo 8\n",
        "\n",
        "# Inicio\n",
        "\n",
        "i = 0\n",
        "lista = []\n",
        "\n",
        "quantidade = int(input('Escreva a quantidade de números que irá adicionar: '))\n",
        "\n",
        "while quantidade < 3:\n",
        "  print('Escreva um número igual ou maior do que 3!')\n",
        "  quantidade = int(input('Escreva a quantidade de números que irá adicionar: '))\n",
        "\n",
        "for i in range(quantidade):\n",
        "  numeros = int(input(f'Escreva o {i + 1}° número: '))\n",
        "  lista.append(numeros)\n",
        "\n",
        "meio = quantidade // 2\n",
        "sublista = lista[0:meio]\n",
        "\n",
        "if quantidade % 2 == 0:\n",
        "\n",
        "  print(sublista[::-1] + lista[meio:])\n",
        "\n",
        "else:\n",
        "  lista2 = lista[::-1]\n",
        "  print(lista2[meio:] + lista[meio:])\n",
        "\n",
        "\n",
        "\n",
        "\n",
        "\n",
        "# Fim."
      ],
      "metadata": {
        "id": "bn7d8Qao1FSf",
        "colab": {
          "base_uri": "https://localhost:8080/"
        },
        "outputId": "145fedb9-799f-43cc-d4b2-97a15913f756"
      },
      "execution_count": null,
      "outputs": [
        {
          "output_type": "stream",
          "name": "stdout",
          "text": [
            "Escreva a quantidade de números que irá adicionar: 5\n",
            "Escreva o 1° número: 8\n",
            "Escreva o 2° número: 3\n",
            "Escreva o 3° número: 7\n",
            "Escreva o 4° número: 0\n",
            "Escreva o 5° número: 2\n",
            "[7, 3, 8, 7, 0, 2]\n"
          ]
        }
      ]
    },
    {
      "cell_type": "markdown",
      "source": [
        "# Exercício 9 – Filtrar Salários\n",
        "\n",
        "##Objetivo: Ler uma lista de salários. Exibir apenas os salários maiores ou iguais a R$1412,00.\n",
        "\n",
        "### Exemplo 1:\n",
        "\n",
        "Entrada:\n",
        "\n",
        "5\n",
        "3500.0\n",
        "1400.0\n",
        "900.2\n",
        "1900.2\n",
        "899.0\n",
        "\n",
        "Saída:\n",
        "\n",
        "3500.0\n",
        "1900.2\n",
        "\n",
        "###Exemplo 2:\n",
        "\n",
        "Entrada:\n",
        "\n",
        "7\n",
        "3900.9\n",
        "1500.2\n",
        "3200.5\n",
        "1411.9\n",
        "1412.0\n",
        "9000.0\n",
        "1699.0\n",
        "\n",
        "Saída:\n",
        "\n",
        "3900.9\n",
        "1500.2\n",
        "3200.5\n",
        "1412.0\n",
        "9000.0\n",
        "1699.0"
      ],
      "metadata": {
        "id": "fvCHtmKXzpkQ"
      }
    },
    {
      "cell_type": "code",
      "source": [
        "# Algoritmo 9\n",
        "\n",
        "# Inicio\n",
        "\n",
        "add_lista = 0.0\n",
        "salarios_acima = []\n",
        "salarios = []\n",
        "resposta = 's'\n",
        "\n",
        "while resposta != 'n':\n",
        "  add_lista = float(input('Escreva o salário: '))\n",
        "  resposta = str(input('Digite (s) para continuar ou (n) para encerrar: '))\n",
        "  salarios.append(add_lista)\n",
        "  if add_lista >= 1412.00:\n",
        "    salarios_acima.append(add_lista)\n",
        "\n",
        "print(f'\\n Os salarios iguais ou acima de R$ 1412,00 são:')\n",
        "print('_'*50)\n",
        "for add_lista in salarios_acima:\n",
        "  print('R$ ', add_lista)\n",
        "\n",
        "# FIm."
      ],
      "metadata": {
        "colab": {
          "base_uri": "https://localhost:8080/"
        },
        "id": "06fgLEOt0DJw",
        "outputId": "259bdf94-58ca-4ba6-8848-5fdfb6b65343"
      },
      "execution_count": 3,
      "outputs": [
        {
          "output_type": "stream",
          "name": "stdout",
          "text": [
            "Escreva o salário: 3000\n",
            "Digite (s) para continuar ou (n) para encerrar: s\n",
            "Escreva o salário: 1412\n",
            "Digite (s) para continuar ou (n) para encerrar: s\n",
            "Escreva o salário: 1411\n",
            "Digite (s) para continuar ou (n) para encerrar: s\n",
            "Escreva o salário: 1500\n",
            "Digite (s) para continuar ou (n) para encerrar: s\n",
            "Escreva o salário: 900\n",
            "Digite (s) para continuar ou (n) para encerrar: s\n",
            "Escreva o salário: 35000\n",
            "Digite (s) para continuar ou (n) para encerrar: n\n",
            "\n",
            " Os salarios iguais ou acima de R$ 1412,00 são:\n",
            "__________________________________________________\n",
            "R$  3000.0\n",
            "R$  1412.0\n",
            "R$  1500.0\n",
            "R$  35000.0\n"
          ]
        }
      ]
    },
    {
      "cell_type": "markdown",
      "source": [
        "# Exercício 10 – Notas dos Alunos (Separar Aprovação)\n",
        "## Objetivo:\n",
        "### Ler uma lista de notas. Exibir primeiro as notas que alcançaram a média (≥ 7.0) e depois as que não alcançaram.\n",
        "\n",
        "Exemplo:\n",
        "\n",
        "Entrada:\n",
        "\n",
        "10\n",
        "\n",
        "9.0\n",
        "\n",
        "7.5\n",
        "\n",
        "6.5\n",
        "\n",
        "8.0\n",
        "\n",
        "5.9\n",
        "\n",
        "7.2\n",
        "\n",
        "6.9\n",
        "\n",
        "10\n",
        "\n",
        "8.5\n",
        "\n",
        "Saída:\n",
        "\n",
        "Notas com média: 9.0, 7.0, 7.5, 8.0, 7.2, 10, 8.5\n",
        "\n",
        "Notas sem média: 6.5, 5.9, 6.9"
      ],
      "metadata": {
        "id": "aIJY2X1COyXk"
      }
    },
    {
      "cell_type": "code",
      "source": [
        "# Algoritmo 10\n",
        "\n",
        "# Inicio\n",
        "\n",
        "nota_com_media = []\n",
        "nota_sem_media = []\n",
        "resposta = ''\n",
        "\n",
        "while resposta != 'n':\n",
        "\n",
        "  nota = float((input('Escreva a nota do aluno: ')))\n",
        "  resposta = str(input('Dgite (s) para continuar ou (n) para finalizar: '))\n",
        "\n",
        "  if nota >= 7:\n",
        "    nota_com_media.append(nota)\n",
        "\n",
        "  else:\n",
        "    nota_sem_media.append(nota)\n",
        "\n",
        "print('_'*50)\n",
        "\n",
        "print('\\n As notas dos alunos que alcançaram a média foram: ')\n",
        "for nota in (nota_com_media):\n",
        "  print(nota)\n",
        "\n",
        "print('_'*50)\n",
        "\n",
        "print('\\n As notas dos alunos que não alcançaram a média foram: ')\n",
        "for nota in (nota_sem_media):\n",
        "  print(nota)\n",
        "\n",
        "\n",
        "\n",
        "# Fim."
      ],
      "metadata": {
        "colab": {
          "base_uri": "https://localhost:8080/"
        },
        "id": "5uNXe_yMPCuV",
        "outputId": "39182a61-a62e-4fb1-af20-feec5b6575c6"
      },
      "execution_count": 7,
      "outputs": [
        {
          "output_type": "stream",
          "name": "stdout",
          "text": [
            "Escreva a nota do aluno: 10\n",
            "Dgite (s) para continuar ou (n) para finalizar: s\n",
            "Escreva a nota do aluno: 9.8\n",
            "Dgite (s) para continuar ou (n) para finalizar: s\n",
            "Escreva a nota do aluno: 7\n",
            "Dgite (s) para continuar ou (n) para finalizar: s\n",
            "Escreva a nota do aluno: 6.9\n",
            "Dgite (s) para continuar ou (n) para finalizar: s\n",
            "Escreva a nota do aluno: 5\n",
            "Dgite (s) para continuar ou (n) para finalizar: s\n",
            "Escreva a nota do aluno: 4.9\n",
            "Dgite (s) para continuar ou (n) para finalizar: s\n",
            "Escreva a nota do aluno: 8.5\n",
            "Dgite (s) para continuar ou (n) para finalizar: s\n",
            "Escreva a nota do aluno: 7.2\n",
            "Dgite (s) para continuar ou (n) para finalizar: s\n",
            "Escreva a nota do aluno: 2.3\n",
            "Dgite (s) para continuar ou (n) para finalizar: n\n",
            "__________________________________________________\n",
            "\n",
            " As notas dos alunos que alcançaram a média foram: \n",
            "10.0\n",
            "9.8\n",
            "7.0\n",
            "8.5\n",
            "7.2\n",
            "__________________________________________________\n",
            "\n",
            " As notas dos alunos que não alcançaram a média foram: \n",
            "6.9\n",
            "5.0\n",
            "4.9\n",
            "2.3\n"
          ]
        }
      ]
    },
    {
      "cell_type": "markdown",
      "source": [
        "# Exercício 11 – Soma de 12 Salários\n",
        "\n",
        "## Objetivo:\n",
        "### Ler uma lista de 12 salários. Calcular e exibir a soma total dos salários.\n",
        "\n",
        "Exemplo:\n",
        "\n",
        "Entrada:\n",
        "1900.0,  1850.0,  1900.0,  2100.0,  1900.0,  1800.0,  2000.0,  1900.0,  2100.0,\n",
        " 2200.0,\n",
        " 1800.0,  2300.0\n",
        "\n",
        "Saída:\n",
        "23750.0"
      ],
      "metadata": {
        "id": "ALsBmHceRZAN"
      }
    },
    {
      "cell_type": "code",
      "source": [
        "# Algoritmo 11\n",
        "\n",
        "# Inicio\n",
        "\n",
        "soma = 0.0\n",
        "salarios = []\n",
        "i = 0\n",
        "\n",
        "while True:\n",
        "\n",
        "  for i in range(12):\n",
        "    salario = float(input(f'Escreva o {i + 1}° salário: R$ '))\n",
        "    salarios.append(salario)\n",
        "    soma += salario\n",
        "    i += 1\n",
        "\n",
        "  print('_'*50)\n",
        "  print(f'\\n A soma dos salários é R$ {soma}')\n",
        "  break\n",
        "\n",
        "\n",
        "\n",
        "# Fim."
      ],
      "metadata": {
        "colab": {
          "base_uri": "https://localhost:8080/"
        },
        "id": "_K3yCvmBRo00",
        "outputId": "fd2c5cdd-425e-4e4b-c996-5852d53da802"
      },
      "execution_count": 21,
      "outputs": [
        {
          "output_type": "stream",
          "name": "stdout",
          "text": [
            "Escreva o 1° salário: R$ 1900\n",
            "Escreva o 2° salário: R$ 1850\n",
            "Escreva o 3° salário: R$ 1900\n",
            "Escreva o 4° salário: R$ 2100\n",
            "Escreva o 5° salário: R$ 1900\n",
            "Escreva o 6° salário: R$ 1800\n",
            "Escreva o 7° salário: R$ 2000\n",
            "Escreva o 8° salário: R$ 1900\n",
            "Escreva o 9° salário: R$ 2100\n",
            "Escreva o 10° salário: R$ 2200\n",
            "Escreva o 11° salário: R$ 1800\n",
            "Escreva o 12° salário: R$ 2300\n",
            "__________________________________________________\n",
            "\n",
            " A soma dos salários é R$ 23750.0\n"
          ]
        }
      ]
    },
    {
      "cell_type": "markdown",
      "source": [
        "# Exercício 12 – Média de Notas\n",
        "\n",
        "## Objetivo:\n",
        "### Ler uma lista de notas. Calcular e exibir a média de todas as notas.\n",
        "\n",
        "Exemplo:\n",
        "\n",
        "Entrada:\n",
        "\n",
        "6\n",
        "\n",
        "9.0\n",
        "\n",
        "7.0\n",
        "\n",
        "7.5\n",
        "\n",
        "6.5\n",
        "\n",
        "8.0\n",
        "\n",
        "5.9\n",
        "\n",
        "Saída:\n",
        "\n",
        "7.316666666666667"
      ],
      "metadata": {
        "id": "7giMoKIJUcHM"
      }
    },
    {
      "cell_type": "code",
      "source": [
        "# Algoritmo 12\n",
        "\n",
        "# Inicio\n",
        "\n",
        "i = 0\n",
        "notas = []\n",
        "soma = 0.0\n",
        "\n",
        "\n",
        "quantidade = int(input('Escreva a quantidade de notas que irá digitar: '))\n",
        "\n",
        "for i in range(quantidade):\n",
        "\n",
        "  nota = float(input(f'Escreva a {i + 1}° nota: '))\n",
        "  notas.append(nota)\n",
        "  soma += nota\n",
        "\n",
        "media = soma / quantidade\n",
        "\n",
        "print('_'*50)\n",
        "print(f'\\n A MÉDIA DAS NOTAS DIGITADAS É {round(media, 2)}')\n",
        "\n",
        "# Fim."
      ],
      "metadata": {
        "colab": {
          "base_uri": "https://localhost:8080/"
        },
        "id": "nIua-b4JUmks",
        "outputId": "fe799dca-c9e3-447c-918e-f35270b98d42"
      },
      "execution_count": 23,
      "outputs": [
        {
          "output_type": "stream",
          "name": "stdout",
          "text": [
            "Escreva a quantidade de notas que irá digitar: 5\n",
            "Escreva a 1° nota: 6.6666666\n",
            "Escreva a 2° nota: 2.8\n",
            "Escreva a 3° nota: 10\n",
            "Escreva a 4° nota: 8.99656\n",
            "Escreva a 5° nota: 3.5\n",
            "__________________________________________________\n",
            "\n",
            " A MÉDIA DAS NOTAS DIGITADAS É 6.39\n"
          ]
        }
      ]
    },
    {
      "cell_type": "markdown",
      "source": [
        "# Exercício 13 – Contagem de Notas Acima e Abaixo da Média\n",
        "## Objetivo:\n",
        "\n",
        "### Ler uma lista de notas. Contar quantas notas alcançaram (≥ 7.0) e quantas não alcançaram a média.\n",
        "\n",
        "###Exemplo 1:\n",
        "\n",
        "### Entrada:\n",
        "\n",
        "6\n",
        "\n",
        "9.0, 7.0, 7.5, 6.5, 8.0, 5.9\n",
        "\n",
        "### Saída:\n",
        "\n",
        "Alcançaram a média: 4\n",
        "\n",
        "Não alcançaram a média: 2\n",
        "\n",
        "###Exemplo 2:\n",
        "###Entrada:\n",
        "\n",
        "7\n",
        "\n",
        "10, 9.5, 6.9, 7.0, 5.0, 6.5, 6.0\n",
        "\n",
        "###Saída:\n",
        "\n",
        "Alcançaram a média: 3\n",
        "\n",
        "Não alcançaram: 4"
      ],
      "metadata": {
        "id": "SSmH_GSFV6Ts"
      }
    },
    {
      "cell_type": "code",
      "source": [
        "# Algoritmo 13\n",
        "\n",
        "# Inicio\n",
        "\n",
        "soma1 = 0\n",
        "soma2 = 0\n",
        "acima_media = []\n",
        "abaixo_media = []\n",
        "\n",
        "quantidade = int(input('Escreva quantas notas irá digitar: '))\n",
        "\n",
        "for i in range(quantidade):\n",
        "\n",
        "  nota = float(input(f'Escreva a {i + 1}° nota: '))\n",
        "\n",
        "  if nota >= 7:\n",
        "    acima_media.append(nota)\n",
        "    soma1 += 1\n",
        "\n",
        "  else:\n",
        "    abaixo_media.append(nota)\n",
        "    soma2 += 1\n",
        "\n",
        "print('_'*50)\n",
        "print(f'\\n O NÚMERO DE NOTAS QUE ALCANÇARAM A MÉDIA FORAM: {soma1}')\n",
        "print('_'*50)\n",
        "print(f'\\n O NÚMERO DE NOTAS QUE NÃO ALCANÇARAM A MÉDIA FORAM: {soma2}')\n",
        "\n",
        "\n",
        "\n",
        "\n",
        "\n",
        "# Fim."
      ],
      "metadata": {
        "colab": {
          "base_uri": "https://localhost:8080/"
        },
        "id": "mBd0HBuxWlRE",
        "outputId": "aa9f643c-4e37-4e47-9584-f75db9e9406b"
      },
      "execution_count": 24,
      "outputs": [
        {
          "output_type": "stream",
          "name": "stdout",
          "text": [
            "Escreva quantas notas irá digitar: 4\n",
            "Escreva a 1° nota: 8.6\n",
            "Escreva a 2° nota: 7\n",
            "Escreva a 3° nota: 6.9\n",
            "Escreva a 4° nota: 9\n",
            "__________________________________________________\n",
            "\n",
            " O NÚMERO DE NOTAS QUE ALCANÇARAM A MÉDIA FORAM: 3\n",
            "__________________________________________________\n",
            "\n",
            " O NÚMERO DE NOTAS QUE NÃO ALCANÇARAM A MÉDIA FORAM: 1\n"
          ]
        }
      ]
    },
    {
      "cell_type": "markdown",
      "source": [
        "# Exercício 14 – Classificação de Idades\n",
        "\n",
        "## Objetivo:\n",
        "\n",
        "### Ler uma lista de idades. Contar quantas idades são de:\n",
        "\n",
        "Crianças (até 11 anos)\n",
        "\n",
        "Adolescentes (12 a 17 anos)\n",
        "\n",
        "Adultos (18 anos ou mais)\n",
        "\n",
        "\n",
        "## Exemplo:\n",
        "\n",
        "###Entrada:\n",
        "\n",
        "10\n",
        "\n",
        "45, 17, 34, 21, 15, 4, 11, 29, 12, 21\n",
        "\n",
        "### Saída:\n",
        "\n",
        "Crianças: 2\n",
        "\n",
        "Adolescentes: 3\n",
        "\n",
        "Adultos: 5"
      ],
      "metadata": {
        "id": "q70CHO0WYCAz"
      }
    },
    {
      "cell_type": "code",
      "source": [
        "# Algoritmo 14\n",
        "\n",
        "# Inicio\n",
        "\n",
        "soma1 = 0\n",
        "soma2 = 0\n",
        "soma3 = 0\n",
        "quantidade = 0\n",
        "\n",
        "\n",
        "quantidade = int(input('Quantas idades irá digitar: '))\n",
        "\n",
        "for i in range(quantidade):\n",
        "  add_idade = int(input(f'Escreva a {i +1}° idade: '))\n",
        "\n",
        "  if add_idade <= 11:\n",
        "    soma1 += 1\n",
        "\n",
        "  elif add_idade > 11 and add_idade <= 17:\n",
        "    soma2 += 1\n",
        "\n",
        "  elif add_idade >= 18:\n",
        "    soma3 += 1\n",
        "\n",
        "print('_'*50)\n",
        "print('\\n CRIANÇAS: ', soma1)\n",
        "print('\\n ADOLESCENTES: ', soma2)\n",
        "print('\\n ADULTOS: ', soma3)\n",
        "\n",
        "\n",
        "\n",
        "\n",
        "\n",
        "# Fim."
      ],
      "metadata": {
        "colab": {
          "base_uri": "https://localhost:8080/"
        },
        "id": "lj_fRI5vYQT1",
        "outputId": "5ef147c2-d8fd-48c8-828a-587014fe8150"
      },
      "execution_count": 25,
      "outputs": [
        {
          "output_type": "stream",
          "name": "stdout",
          "text": [
            "Quantas idades irá digitar: 5\n",
            "Escreva a 1° idade: 11\n",
            "Escreva a 2° idade: 5\n",
            "Escreva a 3° idade: 24\n",
            "Escreva a 4° idade: 15\n",
            "Escreva a 5° idade: 16\n",
            "__________________________________________________\n",
            "\n",
            " CRIANÇAS:  2\n",
            "\n",
            " ADOLESCENTES:  2\n",
            "\n",
            " ADULTOS:  1\n"
          ]
        }
      ]
    },
    {
      "cell_type": "markdown",
      "source": [
        "# Exercício 15 – Média de Idades por Grupo\n",
        "\n",
        "## Objetivo:\n",
        "\n",
        "Utilizando a lista do exercício anterior, calcular a média de idade:\n",
        "\n",
        "das crianças\n",
        "\n",
        "dos adolescentes\n",
        "\n",
        "dos adultos\n",
        "\n",
        "## Exibir as contagens e as médias.\n",
        "\n",
        "## Exemplo:\n",
        "\n",
        "###Entrada:\n",
        "\n",
        "10\n",
        "\n",
        "45, 17, 34, 21, 15, 4, 11, 29, 12, 21\n",
        "\n",
        "### Saída:\n",
        "\n",
        "Crianças: 2, Média: 7.5\n",
        "\n",
        "Adolescentes: 3, Média: 14.67\n",
        "\n",
        "Adultos: 5, Média: 30.0"
      ],
      "metadata": {
        "id": "903JzlebbKK0"
      }
    },
    {
      "cell_type": "code",
      "source": [
        "# Algoritmo 15\n",
        "\n",
        "# Inicio\n",
        "\n",
        "soma_idades1 = 0.0\n",
        "soma_idades2 = 0.0\n",
        "soma_idades3 = 0.0\n",
        "media = 0.0\n",
        "soma1 = 0\n",
        "soma2 = 0\n",
        "soma3 = 0\n",
        "quantidade = 0\n",
        "\n",
        "\n",
        "quantidade = int(input('Quantas idades irá digitar: '))\n",
        "\n",
        "for i in range(quantidade):\n",
        "  add_idade = int(input(f'Escreva a {i +1}° idade: '))\n",
        "\n",
        "  if add_idade <= 11:\n",
        "    soma_idades1 += add_idade\n",
        "    soma1 += 1\n",
        "\n",
        "  elif add_idade > 11 and add_idade <= 17:\n",
        "    soma_idades2 += add_idade\n",
        "    soma2 += 1\n",
        "\n",
        "  elif add_idade >= 18:\n",
        "    soma_idades3 += add_idade\n",
        "    soma3 += 1\n",
        "\n",
        "print('_'*50)\n",
        "print('\\n CRIANÇAS: ', soma1, f' / MÉDIA: {round((soma_idades1/ soma1), 2)}')\n",
        "print('\\n ADOLESCENTES: ', soma2, f' / MÉDIA: {round((soma_idades2/ soma2), 2)}')\n",
        "print('\\n ADULTOS: ', soma3, f' / MÉDIA: {round((soma_idades3/ soma3), 2)}')\n",
        "\n",
        "\n",
        "\n",
        "# Fim."
      ],
      "metadata": {
        "colab": {
          "base_uri": "https://localhost:8080/"
        },
        "id": "Do5D_uEQcLJr",
        "outputId": "6200e8b9-c56b-4bb6-8208-9adcf7ed97cc"
      },
      "execution_count": 28,
      "outputs": [
        {
          "output_type": "stream",
          "name": "stdout",
          "text": [
            "Quantas idades irá digitar: 11\n",
            "Escreva a 1° idade: 65\n",
            "Escreva a 2° idade: 34\n",
            "Escreva a 3° idade: 18\n",
            "Escreva a 4° idade: 11\n",
            "Escreva a 5° idade: 8\n",
            "Escreva a 6° idade: 5\n",
            "Escreva a 7° idade: 16\n",
            "Escreva a 8° idade: 17\n",
            "Escreva a 9° idade: 10\n",
            "Escreva a 10° idade: 25\n",
            "Escreva a 11° idade: 13\n",
            "__________________________________________________\n",
            "\n",
            " CRIANÇAS:  4  / MÉDIA: 8.5\n",
            "\n",
            " ADOLESCENTES:  3  / MÉDIA: 15.33\n",
            "\n",
            " ADULTOS:  4  / MÉDIA: 35.5\n"
          ]
        }
      ]
    },
    {
      "cell_type": "markdown",
      "source": [
        "# Exercício 16 – Contar Números Primos\n",
        "\n",
        "## Objetivo:\n",
        "\n",
        "### Ler uma lista de números inteiros. Contar quantos dos números são primos.\n",
        "\n",
        "Exemplo:\n",
        "\n",
        "### Entrada:\n",
        "\n",
        "10\n",
        "45, 17, 34, 21, 15, 4, 11, 29, 12, 21\n",
        "\n",
        "### Saída:\n",
        "3"
      ],
      "metadata": {
        "id": "11FT5qHcfE10"
      }
    },
    {
      "cell_type": "code",
      "source": [
        "# Algoritmo 16\n",
        "\n",
        "# Inicio\n",
        "\n",
        "i = 0\n",
        "resposta = ''\n",
        "resultado = 0\n",
        "numeros_primos = []\n",
        "\n",
        "while resposta != 'n':\n",
        "    numero = int(input('Escreva um número inteiro: '))\n",
        "    eh_primo = True\n",
        "\n",
        "    if numero <= 1:\n",
        "        eh_primo = False\n",
        "    else:\n",
        "        for x in range(2, int(numero**0.5) + 1):\n",
        "            if numero % x == 0:\n",
        "                eh_primo = False\n",
        "                break\n",
        "\n",
        "    if eh_primo:\n",
        "        numeros_primos.append(numero)\n",
        "\n",
        "    resposta = str(input('Digite (s) para continuar ou (n) para encerrar: '))\n",
        "\n",
        "for numero in numeros_primos:\n",
        "    print(numero)\n",
        "\n",
        "# Fim."
      ],
      "metadata": {
        "colab": {
          "base_uri": "https://localhost:8080/"
        },
        "id": "77iALGojfOYs",
        "outputId": "63993fba-8f92-4dee-e629-5c49880b9efb"
      },
      "execution_count": 50,
      "outputs": [
        {
          "output_type": "stream",
          "name": "stdout",
          "text": [
            "Escreva um número inteiro: 1\n",
            "Digite (s) para continuar ou (n) para encerrar: s\n",
            "Escreva um número inteiro: 2\n",
            "Digite (s) para continuar ou (n) para encerrar: s\n",
            "Escreva um número inteiro: 3\n",
            "Digite (s) para continuar ou (n) para encerrar: s\n",
            "Escreva um número inteiro: 11\n",
            "Digite (s) para continuar ou (n) para encerrar: s\n",
            "Escreva um número inteiro: 9\n",
            "Digite (s) para continuar ou (n) para encerrar: s\n",
            "Escreva um número inteiro: 6\n",
            "Digite (s) para continuar ou (n) para encerrar: n\n",
            "2\n",
            "3\n",
            "11\n"
          ]
        }
      ]
    }
  ]
}