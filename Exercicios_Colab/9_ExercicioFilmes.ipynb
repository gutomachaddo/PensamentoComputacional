{
  "nbformat": 4,
  "nbformat_minor": 0,
  "metadata": {
    "colab": {
      "provenance": [],
      "authorship_tag": "ABX9TyMyOktD1EZq1fB6+sb3ACsV"
    },
    "kernelspec": {
      "name": "python3",
      "display_name": "Python 3"
    },
    "language_info": {
      "name": "python"
    }
  },
  "cells": [
    {
      "cell_type": "markdown",
      "source": [
        "# Sistema para cadastro e avaliações de Filmes\n",
        "\n",
        "- Até 1000 filmes\n",
        "- Notas 0.0 até 10.0\n",
        "- Funções para média das notas e para imprimir as informações\n",
        "- Não pode cadastro de filmes repitidos\n",
        "- (Opcional: Mostrar os 3 melhores e 3 piores filmes do \"site\")"
      ],
      "metadata": {
        "id": "Nb2PsMwiBsun"
      }
    },
    {
      "cell_type": "code",
      "source": [
        "# Funções\n",
        "\n",
        "def divisao():\n",
        "  print('_'*50)\n",
        "\n",
        "def mensagem_inicial():\n",
        "  print(' VOCÊ PODE ESCREVER O NOME E A NOTA \\n DE ATÉ 1000 FILMES! ')\n",
        "  print('-'*50)\n",
        "\n",
        "def mensagem_filmes_notas():\n",
        "  print('OS FILMES E NOTAS INSERIDOS NO CATÁLOGO FORAM:')\n",
        "\n",
        "def mensagem_media():\n",
        "  print(f'A MEDIA DAS NOTAS DOS FILMES É: \\n {round(media, 2)}')"
      ],
      "metadata": {
        "id": "uPA65itc0PR-"
      },
      "execution_count": 69,
      "outputs": []
    },
    {
      "cell_type": "code",
      "execution_count": 77,
      "metadata": {
        "colab": {
          "base_uri": "https://localhost:8080/"
        },
        "id": "sdfrlEr-AlWR",
        "outputId": "133e9e44-f65d-4cbf-a83d-45455092c937"
      },
      "outputs": [
        {
          "output_type": "stream",
          "name": "stdout",
          "text": [
            " VOCÊ PODE ESCREVER O NOME E A NOTA \n",
            " DE ATÉ 1000 FILMES! \n",
            "--------------------------------------------------\n",
            "Escreva o nome do filme: Duna\n",
            "Escreva a nota (de 0.0 até 10.0) para esse filme: 9.2\n",
            "Digite (s) para continuar ou (n) para encerrar: s\n",
            "Escreva o nome do filme: Duna\n",
            "Esse filme já foi cadastrado! Insira outro filme.\n",
            "Escreva o nome de um filme diferente: Oppenheimer\n",
            "Escreva a nota (de 0.0 até 10.0) para esse filme: 12\n",
            "Nota inválida! Deve ser entre 0.0 e 10.0.\n",
            "Digite (s) para continuar ou (n) para encerrar: s\n",
            "Escreva o nome do filme: Oppenheimer \n",
            "Escreva a nota (de 0.0 até 10.0) para esse filme: 9.5\n",
            "Digite (s) para continuar ou (n) para encerrar: s\n",
            "Escreva o nome do filme: Lobo de Wall Street\n",
            "Escreva a nota (de 0.0 até 10.0) para esse filme: 8.2\n",
            "Digite (s) para continuar ou (n) para encerrar: s\n",
            "Escreva o nome do filme: Matrix\n",
            "Escreva a nota (de 0.0 até 10.0) para esse filme: 9.6\n",
            "Digite (s) para continuar ou (n) para encerrar: s\n",
            "Escreva o nome do filme: Eyes Wide Shut\n",
            "Escreva a nota (de 0.0 até 10.0) para esse filme: 9.3\n",
            "Digite (s) para continuar ou (n) para encerrar: s\n",
            "Escreva o nome do filme: O Iluminado\n",
            "Escreva a nota (de 0.0 até 10.0) para esse filme: 9.8\n",
            "Digite (s) para continuar ou (n) para encerrar: s\n",
            "Escreva o nome do filme: Blade Runner\n",
            "Escreva a nota (de 0.0 até 10.0) para esse filme: 8.6\n",
            "Digite (s) para continuar ou (n) para encerrar: s\n",
            "Escreva o nome do filme: Amadeus\n",
            "Escreva a nota (de 0.0 até 10.0) para esse filme: 9.2\n",
            "Digite (s) para continuar ou (n) para encerrar: n\n",
            "__________________________________________________\n",
            "OS FILMES E NOTAS INSERIDOS NO CATÁLOGO FORAM:\n",
            "{'FILME:': 'Duna', 'NOTA': 9.2}\n",
            "{'FILME:': 'Oppenheimer ', 'NOTA': 9.5}\n",
            "{'FILME:': 'Lobo de Wall Street', 'NOTA': 8.2}\n",
            "{'FILME:': 'Matrix', 'NOTA': 9.6}\n",
            "{'FILME:': 'Eyes Wide Shut', 'NOTA': 9.3}\n",
            "{'FILME:': 'O Iluminado', 'NOTA': 9.8}\n",
            "{'FILME:': 'Blade Runner', 'NOTA': 8.6}\n",
            "{'FILME:': 'Amadeus', 'NOTA': 9.2}\n",
            "__________________________________________________\n",
            "A MEDIA DAS NOTAS DOS FILMES É: \n",
            " 9.17\n",
            "__________________________________________________\n",
            "\n",
            "=== 3 PIORES FILMES AVALIADOS ===\n",
            "Lobo de Wall Street - Nota: 8.2\n",
            "Blade Runner - Nota: 8.6\n",
            "Duna - Nota: 9.2\n",
            "\n",
            "=== 3 MELHORES FILMES AVALIADOS ===\n",
            "O Iluminado - Nota: 9.8\n",
            "Matrix - Nota: 9.6\n",
            "Oppenheimer  - Nota: 9.5\n"
          ]
        }
      ],
      "source": [
        "# Algorimto Filmes\n",
        "\n",
        "# Inicio\n",
        "\n",
        "i = 0\n",
        "x = 0\n",
        "media = 0.0\n",
        "cadastro = []\n",
        "resposta = ''\n",
        "soma_notas = 0.0\n",
        "\n",
        "mensagem_inicial()\n",
        "\n",
        "while resposta != 'n' and x < 1000:\n",
        "    filme = str(input('Escreva o nome do filme: '))\n",
        "    filmes_cadastrados = [item['FILME:'] for item in cadastro]\n",
        "\n",
        "    while filme in filmes_cadastrados:\n",
        "        print('Esse filme já foi cadastrado! Insira outro filme.')\n",
        "        filme = str(input('Escreva o nome de um filme diferente: '))\n",
        "\n",
        "    nota = float(input('Escreva a nota (de 0.0 até 10.0) para esse filme: '))\n",
        "\n",
        "    if 0.0 <= nota <= 10.0:\n",
        "        cadastro.append({'FILME:': filme, 'NOTA': round(nota, 2)})\n",
        "        soma_notas += nota\n",
        "        x += 1\n",
        "    else:\n",
        "        print('Nota inválida! Deve ser entre 0.0 e 10.0.')\n",
        "\n",
        "    if x == 1000:\n",
        "        print('\\nLimite máximo de 1000 filmes atingido.')\n",
        "        break\n",
        "    else:\n",
        "        resposta = str(input('Digite (s) para continuar ou (n) para encerrar: '))\n",
        "\n",
        "if x > 0:\n",
        "    media = soma_notas / x\n",
        "\n",
        "divisao()\n",
        "mensagem_filmes_notas()\n",
        "for i in range(x):\n",
        "    print(cadastro[i])\n",
        "\n",
        "divisao()\n",
        "mensagem_media()\n",
        "\n",
        "divisao()\n",
        "if x >= 3:\n",
        "    cadastro_ordenado = sorted(cadastro, key=lambda filme: filme['NOTA'])\n",
        "\n",
        "    print(\"\\n=== 3 PIORES FILMES AVALIADOS ===\")\n",
        "    for filme in cadastro_ordenado[:3]:\n",
        "        print(f\"{filme['FILME:']} - Nota: {filme['NOTA']}\")\n",
        "\n",
        "    print(\"\\n=== 3 MELHORES FILMES AVALIADOS ===\")\n",
        "    for filme in cadastro_ordenado[-3:][::-1]:\n",
        "        print(f\"{filme['FILME:']} - Nota: {filme['NOTA']}\")\n",
        "else:\n",
        "    print(\"\\nNecessita ser inseridos 3 filmes ou mais para mostrar os piores e melhores!\")\n",
        "\n",
        "# Fim"
      ]
    }
  ]
}